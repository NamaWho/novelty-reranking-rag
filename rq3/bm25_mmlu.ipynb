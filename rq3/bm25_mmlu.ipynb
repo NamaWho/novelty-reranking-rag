{
 "cells": [
  {
   "cell_type": "code",
   "execution_count": 1,
   "id": "2397efae-351c-4ccf-bdbc-11dc374bd41b",
   "metadata": {},
   "outputs": [
    {
     "name": "stdout",
     "output_type": "stream",
     "text": [
      "\u001b[33mWARNING: The directory '/mnt/primary/launcher-cache/pip' or its parent directory is not owned or is not writable by the current user. The cache has been disabled. Check the permissions and owner of that directory. If executing pip with sudo, you should use sudo's -H flag.\u001b[0m\u001b[33m\n",
      "\u001b[0m\u001b[33mWARNING: Running pip as the 'root' user can result in broken permissions and conflicting behaviour with the system package manager, possibly rendering your system unusable. It is recommended to use a virtual environment instead: https://pip.pypa.io/warnings/venv. Use the --root-user-action option if you know what you are doing and want to suppress this warning.\u001b[0m\u001b[33m\n",
      "\u001b[0m"
     ]
    }
   ],
   "source": [
    "!pip install -q git+https://github.com/MattiWe/ir_datasets.git@add-msmarco-v2.1-trec-rag"
   ]
  },
  {
   "cell_type": "code",
   "execution_count": 1,
   "id": "d569ce6a-cf67-4b53-96a4-c3b940b6f774",
   "metadata": {},
   "outputs": [
    {
     "name": "stderr",
     "output_type": "stream",
     "text": [
      "/opt/miniconda3/envs/emalir-rq3/lib/python3.10/site-packages/tqdm/auto.py:21: TqdmWarning: IProgress not found. Please update jupyter and ipywidgets. See https://ipywidgets.readthedocs.io/en/stable/user_install.html\n",
      "  from .autonotebook import tqdm as notebook_tqdm\n"
     ]
    }
   ],
   "source": [
    "import pyterrier as pt\n",
    "from datasets import load_dataset\n",
    "import pandas as pd\n",
    "import ir_datasets\n",
    "import pyterrier_alpha as pta"
   ]
  },
  {
   "cell_type": "code",
   "execution_count": 2,
   "id": "531335bb-dd3c-403a-9199-cd04dac12517",
   "metadata": {},
   "outputs": [],
   "source": [
    "mmlu = load_dataset(\"cais/mmlu\", \"all\", split=\"test\")\n",
    "# Creiamo un DataFrame con colonne qid e query\n",
    "queries = []\n",
    "for idx, ex in enumerate(mmlu):\n",
    "    qid = f\"{ex['subject']}_{idx}\"\n",
    "    queries.append({\"qid\": qid, \"query\": ex[\"question\"]})\n",
    "queries_df = pd.DataFrame(queries)"
   ]
  },
  {
   "cell_type": "code",
   "execution_count": 3,
   "id": "b35114c9",
   "metadata": {},
   "outputs": [],
   "source": [
    "data = queries_df.rename(columns={\"qid\": \"qid\", \"query\": \"text\"})\n",
    "data[\"text\"] = data[\"text\"].str.replace('\\n', '\\\\n')\n",
    "data.to_csv(\"./data/datasets/mmlu/mmlu-queries.tsv\", sep=\"\\t\", index=False)"
   ]
  },
  {
   "cell_type": "code",
   "execution_count": 6,
   "id": "f82b5202-5aa6-44a7-9742-62594df69e65",
   "metadata": {},
   "outputs": [],
   "source": [
    "dataset = ir_datasets.load('msmarco-segment-v2.1')\n",
    "pt_dataset = pt.get_dataset(\"irds:msmarco-segment-v2.1\")"
   ]
  },
  {
   "cell_type": "code",
   "execution_count": 7,
   "id": "7cff27a1-572e-4d3a-a453-481abac32761",
   "metadata": {},
   "outputs": [],
   "source": [
    "def rename_segment(run):\n",
    "    run = run.rename(columns={\"segment\": \"text\"})\n",
    "    return run\n",
    "rename_pipe = pt.apply.generic(rename_segment)"
   ]
  },
  {
   "cell_type": "code",
   "execution_count": 17,
   "id": "36fe3d66-3121-4e3f-a26f-a415eb6c7cf7",
   "metadata": {},
   "outputs": [],
   "source": [
    "index = pta.Artifact.from_hf('namawho/msmarco-segment-v2.1.pisa')\n",
    "bm25_ret = index.bm25(verbose=True) % 100 >> pt.text.get_text(pt_dataset, \"segment\") >> rename_pipe"
   ]
  },
  {
   "cell_type": "code",
   "execution_count": 18,
   "id": "cc01a3ee-323c-4618-a39a-5a884cf78ce7",
   "metadata": {},
   "outputs": [
    {
     "name": "stderr",
     "output_type": "stream",
     "text": [
      "PISA bm25: 100%|██████████| 14042/14042 [4:24:14<00:00,  1.13s/query]  \n"
     ]
    }
   ],
   "source": [
    "retrieved = bm25_ret.transform(queries_df)"
   ]
  },
  {
   "cell_type": "code",
   "execution_count": 20,
   "id": "391b4ed1-10b6-42e7-a86b-ce6a77a4d6b9",
   "metadata": {},
   "outputs": [],
   "source": [
    "retrieved[\"Q0\"] = \"Q0\"\n",
    "retrieved[\"tag\"] = \"bm25\"\n",
    "retrieved = retrieved[[\"qid\",\"Q0\",\"docno\",\"rank\",\"score\",\"tag\"]]\n",
    "\n",
    "# scrivi su file\n",
    "retrieved.to_csv(\"bm25_mmlu.run\", sep=\" \", index=False, header=False)"
   ]
  }
 ],
 "metadata": {
  "kernelspec": {
   "display_name": "emalir-rq3",
   "language": "python",
   "name": "python3"
  },
  "language_info": {
   "codemirror_mode": {
    "name": "ipython",
    "version": 3
   },
   "file_extension": ".py",
   "mimetype": "text/x-python",
   "name": "python",
   "nbconvert_exporter": "python",
   "pygments_lexer": "ipython3",
   "version": "3.10.18"
  }
 },
 "nbformat": 4,
 "nbformat_minor": 5
}
