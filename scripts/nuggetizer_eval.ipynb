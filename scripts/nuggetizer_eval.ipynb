{
 "cells": [
  {
   "cell_type": "markdown",
   "id": "23133077-d081-424e-aeb8-2f95eaf026af",
   "metadata": {},
   "source": [
    "# Nuggets creation and scoring"
   ]
  },
  {
   "cell_type": "code",
   "execution_count": 1,
   "id": "4726e458-a3d0-45ca-b84b-2d378a4fcef2",
   "metadata": {},
   "outputs": [
    {
     "name": "stderr",
     "output_type": "stream",
     "text": [
      "/opt/miniconda3/envs/emalir-rq3/lib/python3.10/site-packages/tqdm/auto.py:21: TqdmWarning: IProgress not found. Please update jupyter and ipywidgets. See https://ipywidgets.readthedocs.io/en/stable/user_install.html\n",
      "  from .autonotebook import tqdm as notebook_tqdm\n"
     ]
    }
   ],
   "source": [
    "from pyterrier_rag.backend import OpenAIBackend\n",
    "from transformers import AutoTokenizer\n",
    "import os\n",
    "\n",
    "model_name = \"llama-3.3-70b-instruct\"\n",
    "#model_name = \"qwen-2.5-72b-instruct\"\n",
    "\n",
    "tokenizer = AutoTokenizer.from_pretrained(\"casperhansen/llama-3.3-70b-instruct-awq\")\n",
    "#tokenizer = AutoTokenizer.from_pretrained(\"Qwen/Qwen2.5-72B-Instruct-AWQ\")\n",
    "\n",
    "generation_args={\n",
    "    \"temperature\": 0.6,\n",
    "    \"max_tokens\": 256,\n",
    "}\n",
    "\n",
    "# this could equally be a real OpenAI models\n",
    "backend = OpenAIBackend(model_name, \n",
    "                      api_key=os.environ['IDA_LLM_API_KEY'],\n",
    "                      generation_args=generation_args,\n",
    "                      base_url=\"http://api.llm.apps.os.dcs.gla.ac.uk/v1\", \n",
    "                      verbose=True, \n",
    "                      parallel=64)"
   ]
  },
  {
   "cell_type": "code",
   "execution_count": 2,
   "id": "07f01c44-ba72-4947-8f41-eb2c1bfc1e0b",
   "metadata": {},
   "outputs": [],
   "source": [
    "import pandas as pd\n",
    "\n",
    "def save_csv(path, content):\n",
    "    content.to_csv(path, index=False)\n",
    "\n",
    "def load_csv(path):\n",
    "    try:\n",
    "        content = pd.read_csv(path)\n",
    "        return content\n",
    "    except Exception:\n",
    "        return None"
   ]
  },
  {
   "cell_type": "code",
   "execution_count": 3,
   "id": "1fa4c501-ba83-43ce-9688-b23c5b1b1427",
   "metadata": {},
   "outputs": [],
   "source": [
    "from open_nuggetizer.nuggetizer import Nuggetizer\n",
    "from open_nuggetizer._types import NuggetAssignMode\n",
    "from fastchat.model import get_conversation_template\n",
    "\n",
    "conv_template = get_conversation_template(\"meta-llama-3.1-sp\")\n",
    "\n",
    "nuggetizer = Nuggetizer(\n",
    "    backend=backend, \n",
    "    conversation_template=conv_template,\n",
    "    verbose=True,\n",
    "    assigner_mode=NuggetAssignMode.SUPPORT_GRADE_3\n",
    ")\n",
    "\n",
    "#nuggets = load_csv(\"../data/processed/rag/nuggets.jsonl\")\n",
    "#if nuggets is None:\n",
    "#    nuggets = nuggetizer.create(baseline)\n",
    "#    save_csv(\"nuggets.csv\", nuggets)\n",
    "\n",
    "scored_nuggets = load_csv(\"../data/processed/rag/scored_nuggets.csv\")\n",
    "if scored_nuggets is None:\n",
    "    scored_nuggets = nuggetizer.score(nuggets)\n",
    "    save_csv(\"scored_nuggets.csv\", scored_nuggets)"
   ]
  },
  {
   "cell_type": "markdown",
   "id": "a90c067f-36ae-436f-874f-c31711fe40c1",
   "metadata": {},
   "source": [
    "# Evaluation"
   ]
  },
  {
   "cell_type": "code",
   "execution_count": 4,
   "id": "4ce7cacf-6c2a-4fdb-b3fb-c0db0567c364",
   "metadata": {},
   "outputs": [
    {
     "name": "stdout",
     "output_type": "stream",
     "text": [
      "🔍 Carico ranking esistente...\n"
     ]
    }
   ],
   "source": [
    "import pyterrier as pt\n",
    "\n",
    "print(\"🔍 Carico ranking esistente...\")\n",
    "df_run_base = pd.read_csv(\n",
    "    \"../data/processed/rag/__setencoder-novelty-base__msmarco-segment-trecrag24.tsv\", sep=\"\\t\",\n",
    "    names=[\"qid\", \"Q0\", \"docno\", \"rank\", \"score\", \"run_name\"]\n",
    ")\n",
    "df_run_ea = pd.read_csv(\n",
    "    \"../data/processed/rag/__setencoder-novelty-ea__msmarco-segment-trecrag24.tsv\", sep=\"\\t\",\n",
    "    names=[\"qid\", \"Q0\", \"docno\", \"rank\", \"score\", \"run_name\"]\n",
    ")\n",
    "\n",
    "df_queries = pd.read_csv(\"../data/raw/rag/trecrag24-queries.tsv\", sep=\"\\t\", names=[\"qid\", \"query\"])\n",
    "df_queries = df_queries[df_queries[\"qid\"].isin(scored_nuggets[\"qid\"])]\n",
    "\n",
    "def get_rank(df_queries):\n",
    "    run = df_queries.merge(df_run_ea, on=\"qid\", how=\"left\")\n",
    "    return run\n",
    "get_rank_pipe = pt.apply.generic(get_rank)\n",
    "\n",
    "def rename_segment(run):\n",
    "    run = run.rename(columns={\"segment\": \"text\"})\n",
    "    return run\n",
    "rename_pipe = pt.apply.generic(rename_segment)"
   ]
  },
  {
   "cell_type": "code",
   "execution_count": 5,
   "id": "12cb59dd-ff62-483b-b03b-5a0d9f619aec",
   "metadata": {},
   "outputs": [],
   "source": [
    "import ir_datasets \n",
    "dataset = ir_datasets.load('msmarco-segment-v2.1')\n",
    "pt_dataset = pt.get_dataset(\"irds:msmarco-segment-v2.1\")"
   ]
  },
  {
   "cell_type": "code",
   "execution_count": 6,
   "id": "fa6aa1ac-8285-4242-a4ed-2f0ff74094b5",
   "metadata": {},
   "outputs": [],
   "source": [
    "import pyterrier_alpha as pta\n",
    "index = pta.Artifact.from_hf('namawho/msmarco-segment-v2.1.pisa')"
   ]
  },
  {
   "cell_type": "code",
   "execution_count": 7,
   "id": "acdd6a23-4c43-4720-a4fe-9512a3928a94",
   "metadata": {},
   "outputs": [],
   "source": [
    "from pyterrier_rag.prompt import Concatenator\n",
    "from pyterrier_rag.readers import Reader\n",
    "from pyterrier_rag.prompt import PromptTransformer\n",
    "from jinja2 import Template\n",
    "\n",
    "def make_callable_template(template: Template):\n",
    "    def template_call(**kwargs):\n",
    "        return template.render(**kwargs)\n",
    "\n",
    "    return template_call\n",
    "\n",
    "GENERIC_PROMPT = Template(\n",
    "    \"Use the context information to answer the Question: \\n Context: {{ context }} \\n Question: {{ query }} \\n Answer:\"\n",
    ")\n",
    "\n",
    "prompt = PromptTransformer(\n",
    "            instruction=make_callable_template(GENERIC_PROMPT),\n",
    "            system_message=\"You are an helpful assistant.\",\n",
    "            conversation_template=conv_template,\n",
    "            input_fields=[\n",
    "                \"qcontext\",\n",
    "                \"query\",\n",
    "            ],\n",
    "        )\n",
    "\n",
    "reader = Reader(backend, prompt)\n",
    "rag_pipeline = get_rank_pipe % 10 >>  pt.text.get_text(pt_dataset, \"segment\") >> rename_pipe >> Concatenator() >> reader"
   ]
  },
  {
   "cell_type": "code",
   "execution_count": 102,
   "id": "59806984-9e31-49c5-8d48-80b61ac20c0d",
   "metadata": {},
   "outputs": [
    {
     "data": {
      "text/html": [
       "<div>\n",
       "<style scoped>\n",
       "    .dataframe tbody tr th:only-of-type {\n",
       "        vertical-align: middle;\n",
       "    }\n",
       "\n",
       "    .dataframe tbody tr th {\n",
       "        vertical-align: top;\n",
       "    }\n",
       "\n",
       "    .dataframe thead th {\n",
       "        text-align: right;\n",
       "    }\n",
       "</style>\n",
       "<table border=\"1\" class=\"dataframe\">\n",
       "  <thead>\n",
       "    <tr style=\"text-align: right;\">\n",
       "      <th></th>\n",
       "      <th>prompt</th>\n",
       "      <th>qid</th>\n",
       "      <th>query_0</th>\n",
       "      <th>qanswer</th>\n",
       "    </tr>\n",
       "  </thead>\n",
       "  <tbody>\n",
       "    <tr>\n",
       "      <th>0</th>\n",
       "      <td>[{'role': 'system', 'content': 'You are Nugget...</td>\n",
       "      <td>2024-145979</td>\n",
       "      <td>what is vicarious trauma and how can it be cop...</td>\n",
       "      <td>Vicarious trauma, also known as secondary trau...</td>\n",
       "    </tr>\n",
       "    <tr>\n",
       "      <th>1</th>\n",
       "      <td>[{'role': 'system', 'content': 'You are Nugget...</td>\n",
       "      <td>2024-216592</td>\n",
       "      <td>why disability insurance is a smart investment</td>\n",
       "      <td>Disability insurance is a smart investment for...</td>\n",
       "    </tr>\n",
       "    <tr>\n",
       "      <th>2</th>\n",
       "      <td>[{'role': 'system', 'content': 'You are Nugget...</td>\n",
       "      <td>2024-32912</td>\n",
       "      <td>how bad did the vietnam war devastate the econ...</td>\n",
       "      <td>The Vietnam War had a significant impact on th...</td>\n",
       "    </tr>\n",
       "    <tr>\n",
       "      <th>3</th>\n",
       "      <td>[{'role': 'system', 'content': 'You are Nugget...</td>\n",
       "      <td>2024-153051</td>\n",
       "      <td>what target stors's policies for shoplifting</td>\n",
       "      <td>Based on the context, it appears that Target s...</td>\n",
       "    </tr>\n",
       "    <tr>\n",
       "      <th>4</th>\n",
       "      <td>[{'role': 'system', 'content': 'You are Nugget...</td>\n",
       "      <td>2024-79081</td>\n",
       "      <td>how taylor swift's age affects her relationships</td>\n",
       "      <td>Based on the context of Taylor Swift's life an...</td>\n",
       "    </tr>\n",
       "    <tr>\n",
       "      <th>5</th>\n",
       "      <td>[{'role': 'system', 'content': 'You are Nugget...</td>\n",
       "      <td>2024-42497</td>\n",
       "      <td>how does the informal recycling sector add to ...</td>\n",
       "      <td>The informal recycling sector contributes to a...</td>\n",
       "    </tr>\n",
       "    <tr>\n",
       "      <th>6</th>\n",
       "      <td>[{'role': 'system', 'content': 'You are Nugget...</td>\n",
       "      <td>2024-158743</td>\n",
       "      <td>what was happening in germany and netherlands ...</td>\n",
       "      <td>In the 1840s, several significant events were ...</td>\n",
       "    </tr>\n",
       "    <tr>\n",
       "      <th>7</th>\n",
       "      <td>[{'role': 'system', 'content': 'You are Nugget...</td>\n",
       "      <td>2024-143869</td>\n",
       "      <td>what is scientific evidence for or against the...</td>\n",
       "      <td>There is scientific evidence both for and agai...</td>\n",
       "    </tr>\n",
       "    <tr>\n",
       "      <th>8</th>\n",
       "      <td>[{'role': 'system', 'content': 'You are Nugget...</td>\n",
       "      <td>2024-43037</td>\n",
       "      <td>how europe solved its russian gas problem</td>\n",
       "      <td>To address how Europe solved its Russian gas p...</td>\n",
       "    </tr>\n",
       "    <tr>\n",
       "      <th>9</th>\n",
       "      <td>[{'role': 'system', 'content': 'You are Nugget...</td>\n",
       "      <td>2024-43983</td>\n",
       "      <td>how has inclusivity made vogue magazine more p...</td>\n",
       "      <td>In recent years, Vogue magazine has made a con...</td>\n",
       "    </tr>\n",
       "    <tr>\n",
       "      <th>10</th>\n",
       "      <td>[{'role': 'system', 'content': 'You are Nugget...</td>\n",
       "      <td>2024-224279</td>\n",
       "      <td>why should teachers always be reviewing their ...</td>\n",
       "      <td>To ensure effectiveness and make data-driven d...</td>\n",
       "    </tr>\n",
       "    <tr>\n",
       "      <th>11</th>\n",
       "      <td>[{'role': 'system', 'content': 'You are Nugget...</td>\n",
       "      <td>2024-214096</td>\n",
       "      <td>why are marijuana users stereotypically portra...</td>\n",
       "      <td>The stereotype of marijuana users being sluggi...</td>\n",
       "    </tr>\n",
       "    <tr>\n",
       "      <th>12</th>\n",
       "      <td>[{'role': 'system', 'content': 'You are Nugget...</td>\n",
       "      <td>2024-219624</td>\n",
       "      <td>why has olive oil increased in price</td>\n",
       "      <td>Based on general knowledge, the price of olive...</td>\n",
       "    </tr>\n",
       "    <tr>\n",
       "      <th>13</th>\n",
       "      <td>[{'role': 'system', 'content': 'You are Nugget...</td>\n",
       "      <td>2024-73340</td>\n",
       "      <td>how much support did the patriot act receive?</td>\n",
       "      <td>The USA PATRIOT Act, also known as the Patriot...</td>\n",
       "    </tr>\n",
       "    <tr>\n",
       "      <th>14</th>\n",
       "      <td>[{'role': 'system', 'content': 'You are Nugget...</td>\n",
       "      <td>2024-44060</td>\n",
       "      <td>how hatred is used as a tool to unite people i...</td>\n",
       "      <td>In the context of George Orwell's dystopian no...</td>\n",
       "    </tr>\n",
       "    <tr>\n",
       "      <th>15</th>\n",
       "      <td>[{'role': 'system', 'content': 'You are Nugget...</td>\n",
       "      <td>2024-96359</td>\n",
       "      <td>how were the non aligned countries affected by...</td>\n",
       "      <td>Unfortunately, the provided context does not m...</td>\n",
       "    </tr>\n",
       "    <tr>\n",
       "      <th>16</th>\n",
       "      <td>[{'role': 'system', 'content': 'You are Nugget...</td>\n",
       "      <td>2024-142395</td>\n",
       "      <td>what have teen done to stop animal testing</td>\n",
       "      <td>Based on the context, it appears that there is...</td>\n",
       "    </tr>\n",
       "    <tr>\n",
       "      <th>17</th>\n",
       "      <td>[{'role': 'system', 'content': 'You are Nugget...</td>\n",
       "      <td>2024-35284</td>\n",
       "      <td>how did andrew carnegie impact modern medicine</td>\n",
       "      <td>Andrew Carnegie, a Scottish-American industria...</td>\n",
       "    </tr>\n",
       "    <tr>\n",
       "      <th>18</th>\n",
       "      <td>[{'role': 'system', 'content': 'You are Nugget...</td>\n",
       "      <td>2024-88894</td>\n",
       "      <td>how to help students understand number of deat...</td>\n",
       "      <td>To help students understand the number of deat...</td>\n",
       "    </tr>\n",
       "    <tr>\n",
       "      <th>19</th>\n",
       "      <td>[{'role': 'system', 'content': 'You are Nugget...</td>\n",
       "      <td>2024-22886</td>\n",
       "      <td>do illegal immigrants get free healthcare</td>\n",
       "      <td>According to various sources, including the U....</td>\n",
       "    </tr>\n",
       "    <tr>\n",
       "      <th>20</th>\n",
       "      <td>[{'role': 'system', 'content': 'You are Nugget...</td>\n",
       "      <td>2024-35269</td>\n",
       "      <td>how did american leaders think the marshall pl...</td>\n",
       "      <td>American leaders thought the Marshall Plan wou...</td>\n",
       "    </tr>\n",
       "    <tr>\n",
       "      <th>21</th>\n",
       "      <td>[{'role': 'system', 'content': 'You are Nugget...</td>\n",
       "      <td>2024-73918</td>\n",
       "      <td>how often do officers kill innocent victims</td>\n",
       "      <td>According to various studies and data, it's di...</td>\n",
       "    </tr>\n",
       "    <tr>\n",
       "      <th>22</th>\n",
       "      <td>[{'role': 'system', 'content': 'You are Nugget...</td>\n",
       "      <td>2024-217279</td>\n",
       "      <td>why do marines not get paid well</td>\n",
       "      <td>Based on general knowledge, there are several ...</td>\n",
       "    </tr>\n",
       "    <tr>\n",
       "      <th>23</th>\n",
       "      <td>[{'role': 'system', 'content': 'You are Nugget...</td>\n",
       "      <td>2024-158261</td>\n",
       "      <td>what us trade policies help aid chinese growth?</td>\n",
       "      <td>Based on historical context, several US trade ...</td>\n",
       "    </tr>\n",
       "    <tr>\n",
       "      <th>24</th>\n",
       "      <td>[{'role': 'system', 'content': 'You are Nugget...</td>\n",
       "      <td>2024-18963</td>\n",
       "      <td>did old dominion commit voter fraud</td>\n",
       "      <td>Based on the context provided (which is none),...</td>\n",
       "    </tr>\n",
       "    <tr>\n",
       "      <th>25</th>\n",
       "      <td>[{'role': 'system', 'content': 'You are Nugget...</td>\n",
       "      <td>2024-19025</td>\n",
       "      <td>did people trust the telephone when it was inv...</td>\n",
       "      <td>When the telephone was first invented in the l...</td>\n",
       "    </tr>\n",
       "    <tr>\n",
       "      <th>26</th>\n",
       "      <td>[{'role': 'system', 'content': 'You are Nugget...</td>\n",
       "      <td>2024-141577</td>\n",
       "      <td>what happens if you are deemed a public menace</td>\n",
       "      <td>Based on the context, if you are deemed a publ...</td>\n",
       "    </tr>\n",
       "    <tr>\n",
       "      <th>27</th>\n",
       "      <td>[{'role': 'system', 'content': 'You are Nugget...</td>\n",
       "      <td>2024-129925</td>\n",
       "      <td>what change did marius make in the roman empire</td>\n",
       "      <td>Marius made significant changes in the Roman E...</td>\n",
       "    </tr>\n",
       "    <tr>\n",
       "      <th>28</th>\n",
       "      <td>[{'role': 'system', 'content': 'You are Nugget...</td>\n",
       "      <td>2024-158677</td>\n",
       "      <td>what was entertainment like in the 1990s in th...</td>\n",
       "      <td>In the 1990s, entertainment in the US was a vi...</td>\n",
       "    </tr>\n",
       "    <tr>\n",
       "      <th>29</th>\n",
       "      <td>[{'role': 'system', 'content': 'You are Nugget...</td>\n",
       "      <td>2024-213469</td>\n",
       "      <td>why a comprehensive crypto bill is unlikely to...</td>\n",
       "      <td>Based on the context, a comprehensive crypto b...</td>\n",
       "    </tr>\n",
       "    <tr>\n",
       "      <th>30</th>\n",
       "      <td>[{'role': 'system', 'content': 'You are Nugget...</td>\n",
       "      <td>2024-213817</td>\n",
       "      <td>why are cancer rates higher on the east coast</td>\n",
       "      <td>Based on general knowledge, there are several ...</td>\n",
       "    </tr>\n",
       "    <tr>\n",
       "      <th>31</th>\n",
       "      <td>[{'role': 'system', 'content': 'You are Nugget...</td>\n",
       "      <td>2024-35620</td>\n",
       "      <td>how did escalante encourage students to envisi...</td>\n",
       "      <td>According to the context, Jaime Escalante enco...</td>\n",
       "    </tr>\n",
       "    <tr>\n",
       "      <th>32</th>\n",
       "      <td>[{'role': 'system', 'content': 'You are Nugget...</td>\n",
       "      <td>2024-41849</td>\n",
       "      <td>how does our use of electronics cause natural ...</td>\n",
       "      <td>Our use of electronics does not directly cause...</td>\n",
       "    </tr>\n",
       "    <tr>\n",
       "      <th>33</th>\n",
       "      <td>[{'role': 'system', 'content': 'You are Nugget...</td>\n",
       "      <td>2024-152259</td>\n",
       "      <td>what society issues did goth rock address</td>\n",
       "      <td>Goth rock addressed several societal issues, i...</td>\n",
       "    </tr>\n",
       "    <tr>\n",
       "      <th>34</th>\n",
       "      <td>[{'role': 'system', 'content': 'You are Nugget...</td>\n",
       "      <td>2024-27366</td>\n",
       "      <td>does minimalism comes from creativity?</td>\n",
       "      <td>No, minimalism does not necessarily come from ...</td>\n",
       "    </tr>\n",
       "    <tr>\n",
       "      <th>35</th>\n",
       "      <td>[{'role': 'system', 'content': 'You are Nugget...</td>\n",
       "      <td>2024-224926</td>\n",
       "      <td>why was salsa not noticed in america</td>\n",
       "      <td>Based on the context of salsa not being notice...</td>\n",
       "    </tr>\n",
       "    <tr>\n",
       "      <th>36</th>\n",
       "      <td>[{'role': 'system', 'content': 'You are Nugget...</td>\n",
       "      <td>2024-217812</td>\n",
       "      <td>why do some people have positive cantal tilt</td>\n",
       "      <td>It seems like there's some missing context inf...</td>\n",
       "    </tr>\n",
       "    <tr>\n",
       "      <th>37</th>\n",
       "      <td>[{'role': 'system', 'content': 'You are Nugget...</td>\n",
       "      <td>2024-215952</td>\n",
       "      <td>why did robespierre care so much about killing...</td>\n",
       "      <td>According to historical context, Maximilien Ro...</td>\n",
       "    </tr>\n",
       "    <tr>\n",
       "      <th>38</th>\n",
       "      <td>[{'role': 'system', 'content': 'You are Nugget...</td>\n",
       "      <td>2024-79154</td>\n",
       "      <td>how the solar eclipse can affect mental health</td>\n",
       "      <td>According to various studies and experts, a so...</td>\n",
       "    </tr>\n",
       "    <tr>\n",
       "      <th>39</th>\n",
       "      <td>[{'role': 'system', 'content': 'You are Nugget...</td>\n",
       "      <td>2024-213978</td>\n",
       "      <td>why are french farmers protesting</td>\n",
       "      <td>French farmers are protesting due to various r...</td>\n",
       "    </tr>\n",
       "    <tr>\n",
       "      <th>40</th>\n",
       "      <td>[{'role': 'system', 'content': 'You are Nugget...</td>\n",
       "      <td>2024-105741</td>\n",
       "      <td>is it dangerous to have wbc over 15,000 withou...</td>\n",
       "      <td>Having a white blood cell (WBC) count over 15,...</td>\n",
       "    </tr>\n",
       "    <tr>\n",
       "      <th>41</th>\n",
       "      <td>[{'role': 'system', 'content': 'You are Nugget...</td>\n",
       "      <td>2024-29182</td>\n",
       "      <td>does your mood have an effect on buying things</td>\n",
       "      <td>Yes, research suggests that your mood can have...</td>\n",
       "    </tr>\n",
       "    <tr>\n",
       "      <th>42</th>\n",
       "      <td>[{'role': 'system', 'content': 'You are Nugget...</td>\n",
       "      <td>2024-96063</td>\n",
       "      <td>how using maps can impact your pedagogy</td>\n",
       "      <td>Using maps in pedagogy can have a significant ...</td>\n",
       "    </tr>\n",
       "    <tr>\n",
       "      <th>43</th>\n",
       "      <td>[{'role': 'system', 'content': 'You are Nugget...</td>\n",
       "      <td>2024-94706</td>\n",
       "      <td>how to views of euthanasia vary from west to east</td>\n",
       "      <td>Views on euthanasia vary significantly from We...</td>\n",
       "    </tr>\n",
       "    <tr>\n",
       "      <th>44</th>\n",
       "      <td>[{'role': 'system', 'content': 'You are Nugget...</td>\n",
       "      <td>2024-214257</td>\n",
       "      <td>why are people boycotting starbucks</td>\n",
       "      <td>Based on the context information, I'll provide...</td>\n",
       "    </tr>\n",
       "    <tr>\n",
       "      <th>45</th>\n",
       "      <td>[{'role': 'system', 'content': 'You are Nugget...</td>\n",
       "      <td>2024-35227</td>\n",
       "      <td>how did african rulers contribute to the trian...</td>\n",
       "      <td>African rulers contributed to the triangle tra...</td>\n",
       "    </tr>\n",
       "    <tr>\n",
       "      <th>46</th>\n",
       "      <td>[{'role': 'system', 'content': 'You are Nugget...</td>\n",
       "      <td>2024-215044</td>\n",
       "      <td>why did 99 cent srtores go out of business</td>\n",
       "      <td>Based on general knowledge, 99 Cents Only Stor...</td>\n",
       "    </tr>\n",
       "    <tr>\n",
       "      <th>47</th>\n",
       "      <td>[{'role': 'system', 'content': 'You are Nugget...</td>\n",
       "      <td>2024-152817</td>\n",
       "      <td>what steps should individuals take to dispose ...</td>\n",
       "      <td>To dispose of electronic devices in an environ...</td>\n",
       "    </tr>\n",
       "    <tr>\n",
       "      <th>48</th>\n",
       "      <td>[{'role': 'system', 'content': 'You are Nugget...</td>\n",
       "      <td>2024-224701</td>\n",
       "      <td>why was dame van winkle portrayed so negatively?</td>\n",
       "      <td>Dame Van Winkle was portrayed so negatively in...</td>\n",
       "    </tr>\n",
       "    <tr>\n",
       "      <th>49</th>\n",
       "      <td>[{'role': 'system', 'content': 'You are Nugget...</td>\n",
       "      <td>2024-213789</td>\n",
       "      <td>why are blacks at higher risk for organ failure?</td>\n",
       "      <td>According to various medical studies and resea...</td>\n",
       "    </tr>\n",
       "    <tr>\n",
       "      <th>50</th>\n",
       "      <td>[{'role': 'system', 'content': 'You are Nugget...</td>\n",
       "      <td>2024-38986</td>\n",
       "      <td>how do we support life on other planets</td>\n",
       "      <td>To support life on other planets, several stra...</td>\n",
       "    </tr>\n",
       "    <tr>\n",
       "      <th>51</th>\n",
       "      <td>[{'role': 'system', 'content': 'You are Nugget...</td>\n",
       "      <td>2024-214467</td>\n",
       "      <td>why are students protesting at columbia</td>\n",
       "      <td>Unfortunately, I don't have enough information...</td>\n",
       "    </tr>\n",
       "    <tr>\n",
       "      <th>52</th>\n",
       "      <td>[{'role': 'system', 'content': 'You are Nugget...</td>\n",
       "      <td>2024-219563</td>\n",
       "      <td>why free things have less percieved value</td>\n",
       "      <td>The concept you're referring to is often expla...</td>\n",
       "    </tr>\n",
       "    <tr>\n",
       "      <th>53</th>\n",
       "      <td>[{'role': 'system', 'content': 'You are Nugget...</td>\n",
       "      <td>2024-121840</td>\n",
       "      <td>should teachers notify parents about state tes...</td>\n",
       "      <td>Yes, teachers should notify parents about stat...</td>\n",
       "    </tr>\n",
       "    <tr>\n",
       "      <th>54</th>\n",
       "      <td>[{'role': 'system', 'content': 'You are Nugget...</td>\n",
       "      <td>2024-58819</td>\n",
       "      <td>how many latino have been misinformed about ed...</td>\n",
       "      <td>Unfortunately, the context provided does not c...</td>\n",
       "    </tr>\n",
       "    <tr>\n",
       "      <th>55</th>\n",
       "      <td>[{'role': 'system', 'content': 'You are Nugget...</td>\n",
       "      <td>2024-127266</td>\n",
       "      <td>what are some key challenges related to the re...</td>\n",
       "      <td>Some key challenges related to the recycling o...</td>\n",
       "    </tr>\n",
       "  </tbody>\n",
       "</table>\n",
       "</div>"
      ],
      "text/plain": [
       "                                               prompt          qid  \\\n",
       "0   [{'role': 'system', 'content': 'You are Nugget...  2024-145979   \n",
       "1   [{'role': 'system', 'content': 'You are Nugget...  2024-216592   \n",
       "2   [{'role': 'system', 'content': 'You are Nugget...   2024-32912   \n",
       "3   [{'role': 'system', 'content': 'You are Nugget...  2024-153051   \n",
       "4   [{'role': 'system', 'content': 'You are Nugget...   2024-79081   \n",
       "5   [{'role': 'system', 'content': 'You are Nugget...   2024-42497   \n",
       "6   [{'role': 'system', 'content': 'You are Nugget...  2024-158743   \n",
       "7   [{'role': 'system', 'content': 'You are Nugget...  2024-143869   \n",
       "8   [{'role': 'system', 'content': 'You are Nugget...   2024-43037   \n",
       "9   [{'role': 'system', 'content': 'You are Nugget...   2024-43983   \n",
       "10  [{'role': 'system', 'content': 'You are Nugget...  2024-224279   \n",
       "11  [{'role': 'system', 'content': 'You are Nugget...  2024-214096   \n",
       "12  [{'role': 'system', 'content': 'You are Nugget...  2024-219624   \n",
       "13  [{'role': 'system', 'content': 'You are Nugget...   2024-73340   \n",
       "14  [{'role': 'system', 'content': 'You are Nugget...   2024-44060   \n",
       "15  [{'role': 'system', 'content': 'You are Nugget...   2024-96359   \n",
       "16  [{'role': 'system', 'content': 'You are Nugget...  2024-142395   \n",
       "17  [{'role': 'system', 'content': 'You are Nugget...   2024-35284   \n",
       "18  [{'role': 'system', 'content': 'You are Nugget...   2024-88894   \n",
       "19  [{'role': 'system', 'content': 'You are Nugget...   2024-22886   \n",
       "20  [{'role': 'system', 'content': 'You are Nugget...   2024-35269   \n",
       "21  [{'role': 'system', 'content': 'You are Nugget...   2024-73918   \n",
       "22  [{'role': 'system', 'content': 'You are Nugget...  2024-217279   \n",
       "23  [{'role': 'system', 'content': 'You are Nugget...  2024-158261   \n",
       "24  [{'role': 'system', 'content': 'You are Nugget...   2024-18963   \n",
       "25  [{'role': 'system', 'content': 'You are Nugget...   2024-19025   \n",
       "26  [{'role': 'system', 'content': 'You are Nugget...  2024-141577   \n",
       "27  [{'role': 'system', 'content': 'You are Nugget...  2024-129925   \n",
       "28  [{'role': 'system', 'content': 'You are Nugget...  2024-158677   \n",
       "29  [{'role': 'system', 'content': 'You are Nugget...  2024-213469   \n",
       "30  [{'role': 'system', 'content': 'You are Nugget...  2024-213817   \n",
       "31  [{'role': 'system', 'content': 'You are Nugget...   2024-35620   \n",
       "32  [{'role': 'system', 'content': 'You are Nugget...   2024-41849   \n",
       "33  [{'role': 'system', 'content': 'You are Nugget...  2024-152259   \n",
       "34  [{'role': 'system', 'content': 'You are Nugget...   2024-27366   \n",
       "35  [{'role': 'system', 'content': 'You are Nugget...  2024-224926   \n",
       "36  [{'role': 'system', 'content': 'You are Nugget...  2024-217812   \n",
       "37  [{'role': 'system', 'content': 'You are Nugget...  2024-215952   \n",
       "38  [{'role': 'system', 'content': 'You are Nugget...   2024-79154   \n",
       "39  [{'role': 'system', 'content': 'You are Nugget...  2024-213978   \n",
       "40  [{'role': 'system', 'content': 'You are Nugget...  2024-105741   \n",
       "41  [{'role': 'system', 'content': 'You are Nugget...   2024-29182   \n",
       "42  [{'role': 'system', 'content': 'You are Nugget...   2024-96063   \n",
       "43  [{'role': 'system', 'content': 'You are Nugget...   2024-94706   \n",
       "44  [{'role': 'system', 'content': 'You are Nugget...  2024-214257   \n",
       "45  [{'role': 'system', 'content': 'You are Nugget...   2024-35227   \n",
       "46  [{'role': 'system', 'content': 'You are Nugget...  2024-215044   \n",
       "47  [{'role': 'system', 'content': 'You are Nugget...  2024-152817   \n",
       "48  [{'role': 'system', 'content': 'You are Nugget...  2024-224701   \n",
       "49  [{'role': 'system', 'content': 'You are Nugget...  2024-213789   \n",
       "50  [{'role': 'system', 'content': 'You are Nugget...   2024-38986   \n",
       "51  [{'role': 'system', 'content': 'You are Nugget...  2024-214467   \n",
       "52  [{'role': 'system', 'content': 'You are Nugget...  2024-219563   \n",
       "53  [{'role': 'system', 'content': 'You are Nugget...  2024-121840   \n",
       "54  [{'role': 'system', 'content': 'You are Nugget...   2024-58819   \n",
       "55  [{'role': 'system', 'content': 'You are Nugget...  2024-127266   \n",
       "\n",
       "                                              query_0  \\\n",
       "0   what is vicarious trauma and how can it be cop...   \n",
       "1      why disability insurance is a smart investment   \n",
       "2   how bad did the vietnam war devastate the econ...   \n",
       "3        what target stors's policies for shoplifting   \n",
       "4    how taylor swift's age affects her relationships   \n",
       "5   how does the informal recycling sector add to ...   \n",
       "6   what was happening in germany and netherlands ...   \n",
       "7   what is scientific evidence for or against the...   \n",
       "8           how europe solved its russian gas problem   \n",
       "9   how has inclusivity made vogue magazine more p...   \n",
       "10  why should teachers always be reviewing their ...   \n",
       "11  why are marijuana users stereotypically portra...   \n",
       "12               why has olive oil increased in price   \n",
       "13      how much support did the patriot act receive?   \n",
       "14  how hatred is used as a tool to unite people i...   \n",
       "15  how were the non aligned countries affected by...   \n",
       "16         what have teen done to stop animal testing   \n",
       "17     how did andrew carnegie impact modern medicine   \n",
       "18  how to help students understand number of deat...   \n",
       "19          do illegal immigrants get free healthcare   \n",
       "20  how did american leaders think the marshall pl...   \n",
       "21        how often do officers kill innocent victims   \n",
       "22                   why do marines not get paid well   \n",
       "23    what us trade policies help aid chinese growth?   \n",
       "24                did old dominion commit voter fraud   \n",
       "25  did people trust the telephone when it was inv...   \n",
       "26     what happens if you are deemed a public menace   \n",
       "27    what change did marius make in the roman empire   \n",
       "28  what was entertainment like in the 1990s in th...   \n",
       "29  why a comprehensive crypto bill is unlikely to...   \n",
       "30      why are cancer rates higher on the east coast   \n",
       "31  how did escalante encourage students to envisi...   \n",
       "32  how does our use of electronics cause natural ...   \n",
       "33          what society issues did goth rock address   \n",
       "34             does minimalism comes from creativity?   \n",
       "35               why was salsa not noticed in america   \n",
       "36       why do some people have positive cantal tilt   \n",
       "37  why did robespierre care so much about killing...   \n",
       "38     how the solar eclipse can affect mental health   \n",
       "39                  why are french farmers protesting   \n",
       "40  is it dangerous to have wbc over 15,000 withou...   \n",
       "41     does your mood have an effect on buying things   \n",
       "42            how using maps can impact your pedagogy   \n",
       "43  how to views of euthanasia vary from west to east   \n",
       "44                why are people boycotting starbucks   \n",
       "45  how did african rulers contribute to the trian...   \n",
       "46         why did 99 cent srtores go out of business   \n",
       "47  what steps should individuals take to dispose ...   \n",
       "48   why was dame van winkle portrayed so negatively?   \n",
       "49   why are blacks at higher risk for organ failure?   \n",
       "50            how do we support life on other planets   \n",
       "51            why are students protesting at columbia   \n",
       "52          why free things have less percieved value   \n",
       "53  should teachers notify parents about state tes...   \n",
       "54  how many latino have been misinformed about ed...   \n",
       "55  what are some key challenges related to the re...   \n",
       "\n",
       "                                              qanswer  \n",
       "0   Vicarious trauma, also known as secondary trau...  \n",
       "1   Disability insurance is a smart investment for...  \n",
       "2   The Vietnam War had a significant impact on th...  \n",
       "3   Based on the context, it appears that Target s...  \n",
       "4   Based on the context of Taylor Swift's life an...  \n",
       "5   The informal recycling sector contributes to a...  \n",
       "6   In the 1840s, several significant events were ...  \n",
       "7   There is scientific evidence both for and agai...  \n",
       "8   To address how Europe solved its Russian gas p...  \n",
       "9   In recent years, Vogue magazine has made a con...  \n",
       "10  To ensure effectiveness and make data-driven d...  \n",
       "11  The stereotype of marijuana users being sluggi...  \n",
       "12  Based on general knowledge, the price of olive...  \n",
       "13  The USA PATRIOT Act, also known as the Patriot...  \n",
       "14  In the context of George Orwell's dystopian no...  \n",
       "15  Unfortunately, the provided context does not m...  \n",
       "16  Based on the context, it appears that there is...  \n",
       "17  Andrew Carnegie, a Scottish-American industria...  \n",
       "18  To help students understand the number of deat...  \n",
       "19  According to various sources, including the U....  \n",
       "20  American leaders thought the Marshall Plan wou...  \n",
       "21  According to various studies and data, it's di...  \n",
       "22  Based on general knowledge, there are several ...  \n",
       "23  Based on historical context, several US trade ...  \n",
       "24  Based on the context provided (which is none),...  \n",
       "25  When the telephone was first invented in the l...  \n",
       "26  Based on the context, if you are deemed a publ...  \n",
       "27  Marius made significant changes in the Roman E...  \n",
       "28  In the 1990s, entertainment in the US was a vi...  \n",
       "29  Based on the context, a comprehensive crypto b...  \n",
       "30  Based on general knowledge, there are several ...  \n",
       "31  According to the context, Jaime Escalante enco...  \n",
       "32  Our use of electronics does not directly cause...  \n",
       "33  Goth rock addressed several societal issues, i...  \n",
       "34  No, minimalism does not necessarily come from ...  \n",
       "35  Based on the context of salsa not being notice...  \n",
       "36  It seems like there's some missing context inf...  \n",
       "37  According to historical context, Maximilien Ro...  \n",
       "38  According to various studies and experts, a so...  \n",
       "39  French farmers are protesting due to various r...  \n",
       "40  Having a white blood cell (WBC) count over 15,...  \n",
       "41  Yes, research suggests that your mood can have...  \n",
       "42  Using maps in pedagogy can have a significant ...  \n",
       "43  Views on euthanasia vary significantly from We...  \n",
       "44  Based on the context information, I'll provide...  \n",
       "45  African rulers contributed to the triangle tra...  \n",
       "46  Based on general knowledge, 99 Cents Only Stor...  \n",
       "47  To dispose of electronic devices in an environ...  \n",
       "48  Dame Van Winkle was portrayed so negatively in...  \n",
       "49  According to various medical studies and resea...  \n",
       "50  To support life on other planets, several stra...  \n",
       "51  Unfortunately, I don't have enough information...  \n",
       "52  The concept you're referring to is often expla...  \n",
       "53  Yes, teachers should notify parents about stat...  \n",
       "54  Unfortunately, the context provided does not c...  \n",
       "55  Some key challenges related to the recycling o...  "
      ]
     },
     "execution_count": 102,
     "metadata": {},
     "output_type": "execute_result"
    }
   ],
   "source": [
    "results = (rag_pipeline)(df_queries)\n",
    "results"
   ]
  },
  {
   "cell_type": "code",
   "execution_count": 142,
   "id": "ab8d3533-dfda-434f-8cd2-f9106b9517b9",
   "metadata": {},
   "outputs": [
    {
     "name": "stderr",
     "output_type": "stream",
     "text": [
      "\n",
      "\n",
      "pt.apply.by_query():   0%|          | 0/779 [00:00<?, ?it/s]\u001b[A\u001b[A\n",
      "\n",
      "\n",
      "  0%|          | 0/2 [00:00<?, ?window/s]\u001b[A\u001b[A\u001b[A\n",
      "\n",
      "\n",
      " 50%|█████     | 1/2 [00:02<00:02,  2.65s/window]\u001b[A\u001b[A\u001b[A\n",
      "\n",
      "\n",
      "100%|██████████| 2/2 [00:05<00:00,  2.95s/window]\u001b[A\u001b[A\u001b[A\n",
      "\n",
      "\n",
      "pt.apply.by_query():   2%|▏         | 16/779 [00:05<04:41,  2.71it/s]\u001b[A\u001b[A"
     ]
    },
    {
     "name": "stdout",
     "output_type": "stream",
     "text": [
      "Assignments: [0, 1, 1, 2, 0, 2, 0, 2, 2, 0, 0, 1, 1, 1, 2]\n"
     ]
    },
    {
     "name": "stderr",
     "output_type": "stream",
     "text": [
      "\n",
      "\n",
      "\n",
      "  0%|          | 0/2 [00:00<?, ?window/s]\u001b[A\u001b[A\u001b[A\n",
      "\n",
      "\n",
      " 50%|█████     | 1/2 [00:03<00:03,  3.22s/window]\u001b[A\u001b[A\u001b[A\n",
      "\n",
      "\n",
      "100%|██████████| 2/2 [00:06<00:00,  3.00s/window]\u001b[A\u001b[A\u001b[A\n",
      "\n",
      "\n",
      "pt.apply.by_query():   5%|▍         | 36/779 [00:11<04:01,  3.08it/s]\u001b[A\u001b[A"
     ]
    },
    {
     "name": "stdout",
     "output_type": "stream",
     "text": [
      "Assignments: [0, 0, 0, 0, 0, 0, 0, 0, 0, 0, 2, 1, 1, 0, 0, 0, 0, 2, 0, 0]\n"
     ]
    },
    {
     "name": "stderr",
     "output_type": "stream",
     "text": [
      "\n",
      "\n",
      "\n",
      "  0%|          | 0/1 [00:00<?, ?window/s]\u001b[A\u001b[A\u001b[A\n",
      "\n",
      "\n",
      "100%|██████████| 1/1 [00:03<00:00,  3.07s/window]\u001b[A\u001b[A\u001b[A\n",
      "\n",
      "\n",
      "pt.apply.by_query():   6%|▌         | 45/779 [00:14<04:01,  3.03it/s]\u001b[A\u001b[A"
     ]
    },
    {
     "name": "stdout",
     "output_type": "stream",
     "text": [
      "Assignments: [2, 0, 0, 0, 0, 2, 0, 0, 0]\n"
     ]
    },
    {
     "name": "stderr",
     "output_type": "stream",
     "text": [
      "\n",
      "\n",
      "\n",
      "  0%|          | 0/2 [00:00<?, ?window/s]\u001b[A\u001b[A\u001b[A\n",
      "\n",
      "\n",
      " 50%|█████     | 1/2 [00:01<00:01,  1.70s/window]\u001b[A\u001b[A\u001b[A\n",
      "\n",
      "\n",
      "100%|██████████| 2/2 [00:05<00:00,  2.88s/window]\u001b[A\u001b[A\u001b[A\n",
      "\n",
      "\n",
      "pt.apply.by_query():   8%|▊         | 59/779 [00:20<04:20,  2.76it/s]\u001b[A\u001b[A"
     ]
    },
    {
     "name": "stdout",
     "output_type": "stream",
     "text": [
      "Assignments: [0, 0, 0, 0, 0, 2, 0, 0, 2, 0, 0, 0, 2, 1]\n"
     ]
    },
    {
     "name": "stderr",
     "output_type": "stream",
     "text": [
      "\n",
      "\n",
      "\n",
      "  0%|          | 0/2 [00:00<?, ?window/s]\u001b[A\u001b[A\u001b[A\n",
      "\n",
      "\n",
      " 50%|█████     | 1/2 [00:02<00:02,  2.13s/window]\u001b[A\u001b[A\u001b[A\n",
      "\n",
      "\n",
      "100%|██████████| 2/2 [00:05<00:00,  2.66s/window]\u001b[A\u001b[A\u001b[A\n",
      "\n",
      "\n",
      "pt.apply.by_query():  10%|▉         | 75/779 [00:26<04:06,  2.85it/s]\u001b[A\u001b[A"
     ]
    },
    {
     "name": "stdout",
     "output_type": "stream",
     "text": [
      "Assignments: [2, 2, 2, 1, 0, 1, 2, 1, 0, 0, 1, 1, 1, 1, 0, 1]\n"
     ]
    },
    {
     "name": "stderr",
     "output_type": "stream",
     "text": [
      "\n",
      "\n",
      "\n",
      "  0%|          | 0/2 [00:00<?, ?window/s]\u001b[A\u001b[A\u001b[A\n",
      "\n",
      "\n",
      " 50%|█████     | 1/2 [00:01<00:01,  1.95s/window]\u001b[A\u001b[A\u001b[A\n",
      "\n",
      "\n",
      "100%|██████████| 2/2 [00:04<00:00,  2.49s/window]\u001b[A\u001b[A\u001b[A\n",
      "\n",
      "\n",
      "pt.apply.by_query():  12%|█▏        | 90/779 [00:31<03:57,  2.90it/s]\u001b[A\u001b[A"
     ]
    },
    {
     "name": "stdout",
     "output_type": "stream",
     "text": [
      "Assignments: [0, 0, 0, 0, 0, 2, 0, 2, 2, 2, 0, 2, 1, 0, 0]\n"
     ]
    },
    {
     "name": "stderr",
     "output_type": "stream",
     "text": [
      "\n",
      "\n",
      "\n",
      "  0%|          | 0/2 [00:00<?, ?window/s]\u001b[A\u001b[A\u001b[A\n",
      "\n",
      "\n",
      " 50%|█████     | 1/2 [00:02<00:02,  2.87s/window]\u001b[A\u001b[A\u001b[A\n",
      "\n",
      "\n",
      "100%|██████████| 2/2 [00:05<00:00,  3.00s/window]\u001b[A\u001b[A\u001b[A\n",
      "\n",
      "\n",
      "pt.apply.by_query():  14%|█▍        | 108/779 [00:37<03:48,  2.94it/s]\u001b[A\u001b[A"
     ]
    },
    {
     "name": "stdout",
     "output_type": "stream",
     "text": [
      "Assignments: [0, 0, 0, 1, 0, 1, 0, 0, 0, 0, 1, 1, 2, 0, 0, 0, 2, 0]\n"
     ]
    },
    {
     "name": "stderr",
     "output_type": "stream",
     "text": [
      "\n",
      "\n",
      "\n",
      "  0%|          | 0/2 [00:00<?, ?window/s]\u001b[A\u001b[A\u001b[A\n",
      "\n",
      "\n",
      " 50%|█████     | 1/2 [00:03<00:03,  3.71s/window]\u001b[A\u001b[A\u001b[A\n",
      "\n",
      "\n",
      "100%|██████████| 2/2 [00:06<00:00,  3.21s/window]\u001b[A\u001b[A\u001b[A\n",
      "\n",
      "\n",
      "pt.apply.by_query():  16%|█▋        | 128/779 [00:43<03:36,  3.00it/s]\u001b[A\u001b[A"
     ]
    },
    {
     "name": "stdout",
     "output_type": "stream",
     "text": [
      "Assignments: [0, 0, 0, 0, 0, 0, 2, 0, 0, 0, 2, 0, 0, 2, 0, 0, 0, 0, 2, 0]\n"
     ]
    },
    {
     "name": "stderr",
     "output_type": "stream",
     "text": [
      "\n",
      "\n",
      "\n",
      "  0%|          | 0/1 [00:00<?, ?window/s]\u001b[A\u001b[A\u001b[A\n",
      "\n",
      "\n",
      "100%|██████████| 1/1 [00:02<00:00,  2.98s/window]\u001b[A\u001b[A\u001b[A\n",
      "\n",
      "\n",
      "pt.apply.by_query():  18%|█▊        | 138/779 [00:46<03:28,  3.07it/s]\u001b[A\u001b[A"
     ]
    },
    {
     "name": "stdout",
     "output_type": "stream",
     "text": [
      "Assignments: [2, 2, 2, 2, 0, 0, 0, 0, 0, 0]\n"
     ]
    },
    {
     "name": "stderr",
     "output_type": "stream",
     "text": [
      "\n",
      "\n",
      "\n",
      "  0%|          | 0/1 [00:00<?, ?window/s]\u001b[A\u001b[A\u001b[A\n",
      "\n",
      "\n",
      "100%|██████████| 1/1 [00:03<00:00,  3.31s/window]\u001b[A\u001b[A\u001b[A\n",
      "\n",
      "\n",
      "pt.apply.by_query():  19%|█▉        | 148/779 [00:49<03:26,  3.06it/s]\u001b[A\u001b[A"
     ]
    },
    {
     "name": "stdout",
     "output_type": "stream",
     "text": [
      "Assignments: [0, 0, 0, 1, 1, 1, 1, 1, 0, 1]\n"
     ]
    },
    {
     "name": "stderr",
     "output_type": "stream",
     "text": [
      "\n",
      "\n",
      "\n",
      "  0%|          | 0/2 [00:00<?, ?window/s]\u001b[A\u001b[A\u001b[A\n",
      "\n",
      "\n",
      " 50%|█████     | 1/2 [00:01<00:01,  1.50s/window]\u001b[A\u001b[A\u001b[A\n",
      "\n",
      "\n",
      "100%|██████████| 2/2 [00:04<00:00,  2.22s/window]\u001b[A\u001b[A\u001b[A\n",
      "\n",
      "\n",
      "pt.apply.by_query():  21%|██        | 163/779 [00:54<03:15,  3.16it/s]\u001b[A\u001b[A"
     ]
    },
    {
     "name": "stdout",
     "output_type": "stream",
     "text": [
      "Assignments: [2, 2, 0, 1, 2, 2, 1, 0, 0, 0, 0, 0, 0, 0, 0]\n"
     ]
    },
    {
     "name": "stderr",
     "output_type": "stream",
     "text": [
      "\n",
      "\n",
      "\n",
      "  0%|          | 0/2 [00:00<?, ?window/s]\u001b[A\u001b[A\u001b[A\n",
      "\n",
      "\n",
      " 50%|█████     | 1/2 [00:02<00:02,  2.12s/window]\u001b[A\u001b[A\u001b[A\n",
      "\n",
      "\n",
      "100%|██████████| 2/2 [00:05<00:00,  2.62s/window]\u001b[A\u001b[A\u001b[A\n",
      "\n",
      "\n",
      "pt.apply.by_query():  23%|██▎       | 179/779 [00:59<03:12,  3.12it/s]\u001b[A\u001b[A"
     ]
    },
    {
     "name": "stdout",
     "output_type": "stream",
     "text": [
      "Assignments: [0, 0, 0, 2, 0, 0, 0, 0, 0, 0, 2, 0, 0, 0, 2, 1]\n"
     ]
    },
    {
     "name": "stderr",
     "output_type": "stream",
     "text": [
      "\n",
      "\n",
      "\n",
      "  0%|          | 0/2 [00:00<?, ?window/s]\u001b[A\u001b[A\u001b[A\n",
      "\n",
      "\n",
      " 50%|█████     | 1/2 [00:01<00:01,  1.48s/window]\u001b[A\u001b[A\u001b[A\n",
      "\n",
      "\n",
      "100%|██████████| 2/2 [00:04<00:00,  2.23s/window]\u001b[A\u001b[A\u001b[A\n",
      "\n",
      "\n",
      "pt.apply.by_query():  25%|██▍       | 192/779 [01:03<03:11,  3.06it/s]\u001b[A\u001b[A"
     ]
    },
    {
     "name": "stdout",
     "output_type": "stream",
     "text": [
      "Assignments: [0, 1, 0, 2, 0, 0, 2, 2, 2, 2, 2, 1, 2]\n"
     ]
    },
    {
     "name": "stderr",
     "output_type": "stream",
     "text": [
      "\n",
      "\n",
      "\n",
      "  0%|          | 0/1 [00:00<?, ?window/s]\u001b[A\u001b[A\u001b[A\n",
      "\n",
      "\n",
      "100%|██████████| 1/1 [00:02<00:00,  2.39s/window]\u001b[A\u001b[A\u001b[A\n",
      "\n",
      "\n",
      "pt.apply.by_query():  26%|██▌       | 199/779 [01:06<03:11,  3.03it/s]\u001b[A\u001b[A"
     ]
    },
    {
     "name": "stdout",
     "output_type": "stream",
     "text": [
      "Assignments: [2, 2, 2, 2, 2, 1, 1]\n"
     ]
    },
    {
     "name": "stderr",
     "output_type": "stream",
     "text": [
      "\n",
      "\n",
      "\n",
      "  0%|          | 0/1 [00:00<?, ?window/s]\u001b[A\u001b[A\u001b[A\n",
      "\n",
      "\n",
      "100%|██████████| 1/1 [00:02<00:00,  2.01s/window]\u001b[A\u001b[A\u001b[A\n",
      "\n",
      "\n",
      "pt.apply.by_query():  26%|██▋       | 205/779 [01:08<03:09,  3.02it/s]\u001b[A\u001b[A"
     ]
    },
    {
     "name": "stdout",
     "output_type": "stream",
     "text": [
      "Assignments: [2, 2, 2, 1, 1, 1]\n"
     ]
    },
    {
     "name": "stderr",
     "output_type": "stream",
     "text": [
      "\n",
      "\n",
      "\n",
      "  0%|          | 0/2 [00:00<?, ?window/s]\u001b[A\u001b[A\u001b[A\n",
      "\n",
      "\n",
      " 50%|█████     | 1/2 [00:00<00:00,  1.08window/s]\u001b[A\u001b[A\u001b[A\n",
      "\n",
      "\n",
      "100%|██████████| 2/2 [00:03<00:00,  1.91s/window]\u001b[A\u001b[A\u001b[A\n",
      "\n",
      "\n",
      "pt.apply.by_query():  28%|██▊       | 216/779 [01:12<03:09,  2.98it/s]\u001b[A\u001b[A"
     ]
    },
    {
     "name": "stdout",
     "output_type": "stream",
     "text": [
      "Assignments: [1, 1, 1, 0, 2, 2, 2, 2, 2, 0, 2]\n"
     ]
    },
    {
     "name": "stderr",
     "output_type": "stream",
     "text": [
      "\n",
      "\n",
      "\n",
      "  0%|          | 0/2 [00:00<?, ?window/s]\u001b[A\u001b[A\u001b[A\n",
      "\n",
      "\n",
      " 50%|█████     | 1/2 [00:02<00:02,  2.18s/window]\u001b[A\u001b[A\u001b[A\n",
      "\n",
      "\n",
      "100%|██████████| 2/2 [00:05<00:00,  2.62s/window]\u001b[A\u001b[A\u001b[A\n",
      "\n",
      "\n",
      "pt.apply.by_query():  29%|██▉       | 229/779 [01:17<03:17,  2.78it/s]\u001b[A\u001b[A"
     ]
    },
    {
     "name": "stdout",
     "output_type": "stream",
     "text": [
      "Assignments: [1, 0, 1, 1, 2, 0, 1, 2, 2, 0, 1, 1, 0]\n"
     ]
    },
    {
     "name": "stderr",
     "output_type": "stream",
     "text": [
      "\n",
      "\n",
      "\n",
      "  0%|          | 0/2 [00:00<?, ?window/s]\u001b[A\u001b[A\u001b[A\n",
      "\n",
      "\n",
      " 50%|█████     | 1/2 [00:01<00:01,  1.26s/window]\u001b[A\u001b[A\u001b[A\n",
      "\n",
      "\n",
      "100%|██████████| 2/2 [00:04<00:00,  2.15s/window]\u001b[A\u001b[A\u001b[A\n",
      "\n",
      "\n",
      "pt.apply.by_query():  31%|███       | 242/779 [01:21<03:07,  2.86it/s]\u001b[A\u001b[A"
     ]
    },
    {
     "name": "stdout",
     "output_type": "stream",
     "text": [
      "Assignments: [0, 2, 2, 2, 0, 0, 2, 1, 2, 1, 1, 0, 2]\n"
     ]
    },
    {
     "name": "stderr",
     "output_type": "stream",
     "text": [
      "\n",
      "\n",
      "\n",
      "  0%|          | 0/2 [00:00<?, ?window/s]\u001b[A\u001b[A\u001b[A\n",
      "\n",
      "\n",
      " 50%|█████     | 1/2 [00:01<00:01,  1.41s/window]\u001b[A\u001b[A\u001b[A\n",
      "\n",
      "\n",
      "100%|██████████| 2/2 [00:04<00:00,  2.29s/window]\u001b[A\u001b[A\u001b[A\n",
      "\n",
      "\n",
      "pt.apply.by_query():  33%|███▎      | 255/779 [01:26<03:03,  2.85it/s]\u001b[A\u001b[A"
     ]
    },
    {
     "name": "stdout",
     "output_type": "stream",
     "text": [
      "Assignments: [0, 0, 0, 0, 0, 0, 0, 0, 2, 1, 1, 1, 0]\n"
     ]
    },
    {
     "name": "stderr",
     "output_type": "stream",
     "text": [
      "\n",
      "\n",
      "\n",
      "  0%|          | 0/2 [00:00<?, ?window/s]\u001b[A\u001b[A\u001b[A\n",
      "\n",
      "\n",
      " 50%|█████     | 1/2 [00:02<00:02,  2.93s/window]\u001b[A\u001b[A\u001b[A\n",
      "\n",
      "\n",
      "100%|██████████| 2/2 [00:06<00:00,  3.10s/window]\u001b[A\u001b[A\u001b[A\n",
      "\n",
      "\n",
      "pt.apply.by_query():  35%|███▌      | 275/779 [01:32<02:48,  3.00it/s]\u001b[A\u001b[A"
     ]
    },
    {
     "name": "stdout",
     "output_type": "stream",
     "text": [
      "Assignments: [2, 2, 2, 0, 1, 0, 1, 0, 2, 0, 2, 1, 2, 0, 0, 2, 0, 0, 0, 2]\n"
     ]
    },
    {
     "name": "stderr",
     "output_type": "stream",
     "text": [
      "\n",
      "\n",
      "\n",
      "  0%|          | 0/1 [00:00<?, ?window/s]\u001b[A\u001b[A\u001b[A\n",
      "\n",
      "\n",
      "100%|██████████| 1/1 [00:02<00:00,  2.90s/window]\u001b[A\u001b[A\u001b[A\n",
      "\n",
      "\n",
      "pt.apply.by_query():  37%|███▋      | 285/779 [01:35<02:39,  3.09it/s]\u001b[A\u001b[A"
     ]
    },
    {
     "name": "stdout",
     "output_type": "stream",
     "text": [
      "Assignments: [2, 2, 2, 0, 1, 0, 1, 2, 0, 0]\n"
     ]
    },
    {
     "name": "stderr",
     "output_type": "stream",
     "text": [
      "\n",
      "\n",
      "\n",
      "  0%|          | 0/2 [00:00<?, ?window/s]\u001b[A\u001b[A\u001b[A\n",
      "\n",
      "\n",
      " 50%|█████     | 1/2 [00:02<00:02,  2.91s/window]\u001b[A\u001b[A\u001b[A\n",
      "\n",
      "\n",
      "100%|██████████| 2/2 [00:06<00:00,  3.14s/window]\u001b[A\u001b[A\u001b[A\n",
      "\n",
      "\n",
      "pt.apply.by_query():  39%|███▉      | 303/779 [01:41<02:38,  3.00it/s]\u001b[A\u001b[A"
     ]
    },
    {
     "name": "stdout",
     "output_type": "stream",
     "text": [
      "Assignments: [0, 0, 0, 0, 0, 0, 0, 0, 2, 2, 0, 0, 0, 0, 0, 0, 0, 0]\n"
     ]
    },
    {
     "name": "stderr",
     "output_type": "stream",
     "text": [
      "\n",
      "\n",
      "\n",
      "  0%|          | 0/2 [00:00<?, ?window/s]\u001b[A\u001b[A\u001b[A\n",
      "\n",
      "\n",
      " 50%|█████     | 1/2 [00:01<00:01,  1.17s/window]\u001b[A\u001b[A\u001b[A\n",
      "\n",
      "\n",
      "100%|██████████| 2/2 [00:04<00:00,  2.00s/window]\u001b[A\u001b[A\u001b[A\n",
      "\n",
      "\n",
      "pt.apply.by_query():  40%|████      | 315/779 [01:45<02:34,  3.00it/s]\u001b[A\u001b[A"
     ]
    },
    {
     "name": "stdout",
     "output_type": "stream",
     "text": [
      "Assignments: [0, 0, 2, 2, 1, 0, 1, 1, 2, 2, 2, 0]\n"
     ]
    },
    {
     "name": "stderr",
     "output_type": "stream",
     "text": [
      "\n",
      "\n",
      "\n",
      "  0%|          | 0/2 [00:00<?, ?window/s]\u001b[A\u001b[A\u001b[A\n",
      "\n",
      "\n",
      " 50%|█████     | 1/2 [00:02<00:02,  2.25s/window]\u001b[A\u001b[A\u001b[A\n",
      "\n",
      "\n",
      "100%|██████████| 2/2 [00:05<00:00,  2.61s/window]\u001b[A\u001b[A\u001b[A\n",
      "\n",
      "\n",
      "pt.apply.by_query():  43%|████▎     | 332/779 [01:50<02:25,  3.08it/s]\u001b[A\u001b[A"
     ]
    },
    {
     "name": "stdout",
     "output_type": "stream",
     "text": [
      "Assignments: [0, 0, 2, 0, 0, 2, 0, 0, 1, 0, 2, 0, 0, 0, 2, 0, 2]\n"
     ]
    },
    {
     "name": "stderr",
     "output_type": "stream",
     "text": [
      "\n",
      "\n",
      "\n",
      "  0%|          | 0/2 [00:00<?, ?window/s]\u001b[A\u001b[A\u001b[A\n",
      "\n",
      "\n",
      " 50%|█████     | 1/2 [00:02<00:02,  2.25s/window]\u001b[A\u001b[A\u001b[A\n",
      "\n",
      "\n",
      "100%|██████████| 2/2 [00:05<00:00,  2.67s/window]\u001b[A\u001b[A\u001b[A\n",
      "\n",
      "\n",
      "pt.apply.by_query():  45%|████▍     | 349/779 [01:56<02:17,  3.12it/s]\u001b[A\u001b[A"
     ]
    },
    {
     "name": "stdout",
     "output_type": "stream",
     "text": [
      "Assignments: [0, 0, 0, 0, 0, 0, 0, 0, 0, 0, 0, 0, 0, 0, 0, 0, 0]\n"
     ]
    },
    {
     "name": "stderr",
     "output_type": "stream",
     "text": [
      "\n",
      "\n",
      "\n",
      "  0%|          | 0/2 [00:00<?, ?window/s]\u001b[A\u001b[A\u001b[A\n",
      "\n",
      "\n",
      " 50%|█████     | 1/2 [00:01<00:01,  1.09s/window]\u001b[A\u001b[A\u001b[A\n",
      "\n",
      "\n",
      "100%|██████████| 2/2 [00:04<00:00,  2.07s/window]\u001b[A\u001b[A\u001b[A\n",
      "\n",
      "\n",
      "pt.apply.by_query():  46%|████▋     | 361/779 [02:00<02:16,  3.06it/s]\u001b[A\u001b[A"
     ]
    },
    {
     "name": "stdout",
     "output_type": "stream",
     "text": [
      "Assignments: [0, 0, 1, 0, 2, 0, 0, 0, 0, 0, 0, 0]\n"
     ]
    },
    {
     "name": "stderr",
     "output_type": "stream",
     "text": [
      "\n",
      "\n",
      "\n",
      "  0%|          | 0/2 [00:00<?, ?window/s]\u001b[A\u001b[A\u001b[A\n",
      "\n",
      "\n",
      " 50%|█████     | 1/2 [00:02<00:02,  2.87s/window]\u001b[A\u001b[A\u001b[A\n",
      "\n",
      "\n",
      "100%|██████████| 2/2 [00:06<00:00,  3.31s/window]\u001b[A\u001b[A\u001b[A\n",
      "\n",
      "\n",
      "pt.apply.by_query():  49%|████▉     | 381/779 [02:06<02:10,  3.04it/s]\u001b[A\u001b[A"
     ]
    },
    {
     "name": "stdout",
     "output_type": "stream",
     "text": [
      "Assignments: [0, 0, 0, 0, 0, 2, 1, 1, 0, 2, 2, 2, 0, 2, 0, 0, 0, 1, 1, 1]\n"
     ]
    },
    {
     "name": "stderr",
     "output_type": "stream",
     "text": [
      "\n",
      "\n",
      "\n",
      "  0%|          | 0/2 [00:00<?, ?window/s]\u001b[A\u001b[A\u001b[A\n",
      "\n",
      "\n",
      " 50%|█████     | 1/2 [00:00<00:00,  1.09window/s]\u001b[A\u001b[A\u001b[A\n",
      "\n",
      "\n",
      "100%|██████████| 2/2 [00:03<00:00,  1.95s/window]\u001b[A\u001b[A\u001b[A\n",
      "\n",
      "\n",
      "pt.apply.by_query():  50%|█████     | 392/779 [02:10<02:09,  2.99it/s]\u001b[A\u001b[A"
     ]
    },
    {
     "name": "stdout",
     "output_type": "stream",
     "text": [
      "Assignments: [0, 2, 1, 2, 2, 1, 0, 0, 0, 0, 0]\n"
     ]
    },
    {
     "name": "stderr",
     "output_type": "stream",
     "text": [
      "\n",
      "\n",
      "\n",
      "  0%|          | 0/2 [00:00<?, ?window/s]\u001b[A\u001b[A\u001b[A\n",
      "\n",
      "\n",
      " 50%|█████     | 1/2 [00:02<00:02,  2.47s/window]\u001b[A\u001b[A\u001b[A\n",
      "\n",
      "\n",
      "100%|██████████| 2/2 [00:05<00:00,  2.71s/window]\u001b[A\u001b[A\u001b[A\n",
      "\n",
      "\n",
      "pt.apply.by_query():  53%|█████▎    | 410/779 [02:16<01:59,  3.09it/s]\u001b[A\u001b[A"
     ]
    },
    {
     "name": "stdout",
     "output_type": "stream",
     "text": [
      "Assignments: [0, 0, 2, 1, 0, 2, 0, 2, 1, 2, 0, 1, 2, 2, 1, 0, 2, 1]\n"
     ]
    },
    {
     "name": "stderr",
     "output_type": "stream",
     "text": [
      "\n",
      "\n",
      "\n",
      "  0%|          | 0/2 [00:00<?, ?window/s]\u001b[A\u001b[A\u001b[A\n",
      "\n",
      "\n",
      " 50%|█████     | 1/2 [00:01<00:01,  1.51s/window]\u001b[A\u001b[A\u001b[A\n",
      "\n",
      "\n",
      "100%|██████████| 2/2 [00:04<00:00,  2.20s/window]\u001b[A\u001b[A\u001b[A\n",
      "\n",
      "\n",
      "pt.apply.by_query():  54%|█████▍    | 423/779 [02:20<01:56,  3.05it/s]\u001b[A\u001b[A"
     ]
    },
    {
     "name": "stdout",
     "output_type": "stream",
     "text": [
      "Assignments: [0, 0, 0, 2, 2, 0, 1, 2, 2, 2, 0, 0, 0]\n"
     ]
    },
    {
     "name": "stderr",
     "output_type": "stream",
     "text": [
      "\n",
      "\n",
      "\n",
      "  0%|          | 0/2 [00:00<?, ?window/s]\u001b[A\u001b[A\u001b[A\n",
      "\n",
      "\n",
      " 50%|█████     | 1/2 [00:01<00:01,  1.31s/window]\u001b[A\u001b[A\u001b[A\n",
      "\n",
      "\n",
      "100%|██████████| 2/2 [00:04<00:00,  2.16s/window]\u001b[A\u001b[A\u001b[A\n",
      "\n",
      "\n",
      "pt.apply.by_query():  56%|█████▌    | 436/779 [02:25<01:52,  3.04it/s]\u001b[A\u001b[A"
     ]
    },
    {
     "name": "stdout",
     "output_type": "stream",
     "text": [
      "Assignments: [0, 2, 0, 2, 0, 2, 1, 2, 1, 0, 0, 0, 0]\n"
     ]
    },
    {
     "name": "stderr",
     "output_type": "stream",
     "text": [
      "\n",
      "\n",
      "\n",
      "  0%|          | 0/2 [00:00<?, ?window/s]\u001b[A\u001b[A\u001b[A\n",
      "\n",
      "\n",
      " 50%|█████     | 1/2 [00:02<00:02,  2.79s/window]\u001b[A\u001b[A\u001b[A\n",
      "\n",
      "\n",
      "100%|██████████| 2/2 [00:05<00:00,  2.95s/window]\u001b[A\u001b[A\u001b[A\n",
      "\n",
      "\n",
      "pt.apply.by_query():  58%|█████▊    | 453/779 [02:30<01:49,  2.98it/s]\u001b[A\u001b[A"
     ]
    },
    {
     "name": "stdout",
     "output_type": "stream",
     "text": [
      "Assignments: [0, 1, 0, 0, 0, 0, 0, 0, 0, 0, 0, 0, 1, 1, 2, 0, 0]\n"
     ]
    },
    {
     "name": "stderr",
     "output_type": "stream",
     "text": [
      "\n",
      "\n",
      "\n",
      "  0%|          | 0/2 [00:00<?, ?window/s]\u001b[A\u001b[A\u001b[A\n",
      "\n",
      "\n",
      " 50%|█████     | 1/2 [00:02<00:02,  2.94s/window]\u001b[A\u001b[A\u001b[A\n",
      "\n",
      "\n",
      "100%|██████████| 2/2 [00:05<00:00,  2.84s/window]\u001b[A\u001b[A\u001b[A\n",
      "\n",
      "\n",
      "pt.apply.by_query():  61%|██████    | 472/779 [02:36<01:38,  3.10it/s]\u001b[A\u001b[A"
     ]
    },
    {
     "name": "stdout",
     "output_type": "stream",
     "text": [
      "Assignments: [0, 2, 1, 0, 2, 1, 1, 1, 1, 2, 1, 1, 2, 2, 2, 2, 2, 2, 1]\n"
     ]
    },
    {
     "name": "stderr",
     "output_type": "stream",
     "text": [
      "\n",
      "\n",
      "\n",
      "  0%|          | 0/2 [00:00<?, ?window/s]\u001b[A\u001b[A\u001b[A\n",
      "\n",
      "\n",
      " 50%|█████     | 1/2 [00:00<00:00,  1.10window/s]\u001b[A\u001b[A\u001b[A\n",
      "\n",
      "\n",
      "100%|██████████| 2/2 [00:03<00:00,  1.97s/window]\u001b[A\u001b[A\u001b[A\n",
      "\n",
      "\n",
      "pt.apply.by_query():  62%|██████▏   | 484/779 [02:40<01:35,  3.09it/s]\u001b[A\u001b[A"
     ]
    },
    {
     "name": "stdout",
     "output_type": "stream",
     "text": [
      "Assignments: [2, 2, 1, 2, 1, 0, 0, 0, 0, 2, 0, 0]\n"
     ]
    },
    {
     "name": "stderr",
     "output_type": "stream",
     "text": [
      "\n",
      "\n",
      "\n",
      "  0%|          | 0/2 [00:00<?, ?window/s]\u001b[A\u001b[A\u001b[A\n",
      "\n",
      "\n",
      " 50%|█████     | 1/2 [00:02<00:02,  2.28s/window]\u001b[A\u001b[A\u001b[A\n",
      "\n",
      "\n",
      "100%|██████████| 2/2 [00:05<00:00,  2.69s/window]\u001b[A\u001b[A\u001b[A\n",
      "\n",
      "\n",
      "pt.apply.by_query():  64%|██████▍   | 500/779 [02:45<01:31,  3.05it/s]\u001b[A\u001b[A"
     ]
    },
    {
     "name": "stdout",
     "output_type": "stream",
     "text": [
      "Assignments: [0, 0, 0, 0, 0, 0, 1, 0, 1, 2, 2, 2, 0, 2, 0, 1]\n"
     ]
    },
    {
     "name": "stderr",
     "output_type": "stream",
     "text": [
      "\n",
      "\n",
      "\n",
      "  0%|          | 0/2 [00:00<?, ?window/s]\u001b[A\u001b[A\u001b[A\n",
      "\n",
      "\n",
      " 50%|█████     | 1/2 [00:00<00:00,  1.33window/s]\u001b[A\u001b[A\u001b[A\n",
      "\n",
      "\n",
      "100%|██████████| 2/2 [00:03<00:00,  1.87s/window]\u001b[A\u001b[A\u001b[A\n",
      "\n",
      "\n",
      "pt.apply.by_query():  66%|██████▌   | 511/779 [02:49<01:28,  3.02it/s]\u001b[A\u001b[A"
     ]
    },
    {
     "name": "stdout",
     "output_type": "stream",
     "text": [
      "Assignments: [0, 0, 1, 0, 0, 0, 2, 0, 0, 2, 2]\n"
     ]
    },
    {
     "name": "stderr",
     "output_type": "stream",
     "text": [
      "\n",
      "\n",
      "\n",
      "  0%|          | 0/2 [00:00<?, ?window/s]\u001b[A\u001b[A\u001b[A\n",
      "\n",
      "\n",
      " 50%|█████     | 1/2 [00:01<00:01,  1.43s/window]\u001b[A\u001b[A\u001b[A\n",
      "\n",
      "\n",
      "100%|██████████| 2/2 [00:04<00:00,  2.44s/window]\u001b[A\u001b[A\u001b[A\n",
      "\n",
      "\n",
      "pt.apply.by_query():  67%|██████▋   | 525/779 [02:54<01:25,  2.97it/s]\u001b[A\u001b[A"
     ]
    },
    {
     "name": "stdout",
     "output_type": "stream",
     "text": [
      "Assignments: [0, 0, 0, 0, 0, 0, 0, 0, 0, 0, 0, 0, 0, 0]\n"
     ]
    },
    {
     "name": "stderr",
     "output_type": "stream",
     "text": [
      "\n",
      "\n",
      "\n",
      "  0%|          | 0/1 [00:00<?, ?window/s]\u001b[A\u001b[A\u001b[A\n",
      "\n",
      "\n",
      "100%|██████████| 1/1 [00:03<00:00,  3.12s/window]\u001b[A\u001b[A\u001b[A\n",
      "\n",
      "\n",
      "pt.apply.by_query():  69%|██████▊   | 535/779 [02:57<01:20,  3.03it/s]\u001b[A\u001b[A"
     ]
    },
    {
     "name": "stdout",
     "output_type": "stream",
     "text": [
      "Assignments: [0, 0, 0, 2, 2, 2, 0, 0, 0, 0]\n"
     ]
    },
    {
     "name": "stderr",
     "output_type": "stream",
     "text": [
      "\n",
      "\n",
      "\n",
      "  0%|          | 0/1 [00:00<?, ?window/s]\u001b[A\u001b[A\u001b[A\n",
      "\n",
      "\n",
      "100%|██████████| 1/1 [00:02<00:00,  2.88s/window]\u001b[A\u001b[A\u001b[A\n",
      "\n",
      "\n",
      "pt.apply.by_query():  70%|██████▉   | 544/779 [03:00<01:17,  3.05it/s]\u001b[A\u001b[A"
     ]
    },
    {
     "name": "stdout",
     "output_type": "stream",
     "text": [
      "Assignments: [1, 0, 2, 1, 0, 0, 0, 0, 1]\n"
     ]
    },
    {
     "name": "stderr",
     "output_type": "stream",
     "text": [
      "\n",
      "\n",
      "\n",
      "  0%|          | 0/1 [00:00<?, ?window/s]\u001b[A\u001b[A\u001b[A\n",
      "\n",
      "\n",
      "100%|██████████| 1/1 [00:02<00:00,  2.84s/window]\u001b[A\u001b[A\u001b[A\n",
      "\n",
      "\n",
      "pt.apply.by_query():  71%|███████   | 553/779 [03:03<01:13,  3.08it/s]\u001b[A\u001b[A"
     ]
    },
    {
     "name": "stdout",
     "output_type": "stream",
     "text": [
      "Assignments: [2, 0, 0, 1, 0, 0, 0, 0, 2]\n"
     ]
    },
    {
     "name": "stderr",
     "output_type": "stream",
     "text": [
      "\n",
      "\n",
      "\n",
      "  0%|          | 0/2 [00:00<?, ?window/s]\u001b[A\u001b[A\u001b[A\n",
      "\n",
      "\n",
      " 50%|█████     | 1/2 [00:02<00:02,  2.17s/window]\u001b[A\u001b[A\u001b[A\n",
      "\n",
      "\n",
      "100%|██████████| 2/2 [00:05<00:00,  2.70s/window]\u001b[A\u001b[A\u001b[A\n",
      "\n",
      "\n",
      "pt.apply.by_query():  73%|███████▎  | 569/779 [03:08<01:09,  3.03it/s]\u001b[A\u001b[A"
     ]
    },
    {
     "name": "stdout",
     "output_type": "stream",
     "text": [
      "Assignments: [0, 0, 0, 1, 1, 1, 0, 2, 0, 0, 0, 1, 1, 0, 0, 0]\n"
     ]
    },
    {
     "name": "stderr",
     "output_type": "stream",
     "text": [
      "\n",
      "\n",
      "\n",
      "  0%|          | 0/2 [00:00<?, ?window/s]\u001b[A\u001b[A\u001b[A\n",
      "\n",
      "\n",
      " 50%|█████     | 1/2 [00:01<00:01,  1.94s/window]\u001b[A\u001b[A\u001b[A\n",
      "\n",
      "\n",
      "100%|██████████| 2/2 [00:05<00:00,  2.82s/window]\u001b[A\u001b[A\u001b[A\n",
      "\n",
      "\n",
      "pt.apply.by_query():  75%|███████▍  | 584/779 [03:14<01:07,  2.89it/s]\u001b[A\u001b[A"
     ]
    },
    {
     "name": "stdout",
     "output_type": "stream",
     "text": [
      "Assignments: [0, 1, 0, 1, 0, 0, 0, 1, 2, 1, 1, 2, 1, 0, 0]\n"
     ]
    },
    {
     "name": "stderr",
     "output_type": "stream",
     "text": [
      "\n",
      "\n",
      "\n",
      "  0%|          | 0/2 [00:00<?, ?window/s]\u001b[A\u001b[A\u001b[A\n",
      "\n",
      "\n",
      " 50%|█████     | 1/2 [00:02<00:02,  2.18s/window]\u001b[A\u001b[A\u001b[A\n",
      "\n",
      "\n",
      "100%|██████████| 2/2 [00:05<00:00,  2.70s/window]\u001b[A\u001b[A\u001b[A\n",
      "\n",
      "\n",
      "pt.apply.by_query():  77%|███████▋  | 600/779 [03:19<01:01,  2.92it/s]\u001b[A\u001b[A"
     ]
    },
    {
     "name": "stdout",
     "output_type": "stream",
     "text": [
      "Assignments: [0, 0, 0, 1, 0, 0, 0, 0, 0, 0, 0, 0, 0, 0, 0, 0]\n"
     ]
    },
    {
     "name": "stderr",
     "output_type": "stream",
     "text": [
      "\n",
      "\n",
      "\n",
      "  0%|          | 0/2 [00:00<?, ?window/s]\u001b[A\u001b[A\u001b[A\n",
      "\n",
      "\n",
      " 50%|█████     | 1/2 [00:01<00:01,  1.33s/window]\u001b[A\u001b[A\u001b[A\n",
      "\n",
      "\n",
      "100%|██████████| 2/2 [00:04<00:00,  2.28s/window]\u001b[A\u001b[A\u001b[A\n",
      "\n",
      "\n",
      "pt.apply.by_query():  79%|███████▊  | 612/779 [03:24<00:58,  2.84it/s]\u001b[A\u001b[A"
     ]
    },
    {
     "name": "stdout",
     "output_type": "stream",
     "text": [
      "Assignments: [0, 0, 1, 0, 0, 0, 0, 1, 0, 0, 0, 0]\n"
     ]
    },
    {
     "name": "stderr",
     "output_type": "stream",
     "text": [
      "\n",
      "\n",
      "\n",
      "  0%|          | 0/2 [00:00<?, ?window/s]\u001b[A\u001b[A\u001b[A\n",
      "\n",
      "\n",
      " 50%|█████     | 1/2 [00:00<00:00,  1.32window/s]\u001b[A\u001b[A\u001b[A\n",
      "\n",
      "\n",
      "100%|██████████| 2/2 [00:03<00:00,  1.90s/window]\u001b[A\u001b[A\u001b[A\n",
      "\n",
      "\n",
      "pt.apply.by_query():  80%|███████▉  | 623/779 [03:28<00:54,  2.85it/s]\u001b[A\u001b[A"
     ]
    },
    {
     "name": "stdout",
     "output_type": "stream",
     "text": [
      "Assignments: [0, 2, 2, 0, 0, 0, 0, 0, 0, 1, 1]\n"
     ]
    },
    {
     "name": "stderr",
     "output_type": "stream",
     "text": [
      "\n",
      "\n",
      "\n",
      "  0%|          | 0/2 [00:00<?, ?window/s]\u001b[A\u001b[A\u001b[A\n",
      "\n",
      "\n",
      " 50%|█████     | 1/2 [00:02<00:02,  2.44s/window]\u001b[A\u001b[A\u001b[A\n",
      "\n",
      "\n",
      "100%|██████████| 2/2 [00:05<00:00,  2.74s/window]\u001b[A\u001b[A\u001b[A\n",
      "\n",
      "\n",
      "pt.apply.by_query():  82%|████████▏ | 641/779 [03:33<00:46,  3.00it/s]\u001b[A\u001b[A"
     ]
    },
    {
     "name": "stdout",
     "output_type": "stream",
     "text": [
      "Assignments: [1, 2, 2, 2, 2, 2, 0, 2, 2, 2, 0, 0, 0, 0, 0, 2, 1, 1]\n"
     ]
    },
    {
     "name": "stderr",
     "output_type": "stream",
     "text": [
      "\n",
      "\n",
      "\n",
      "  0%|          | 0/2 [00:00<?, ?window/s]\u001b[A\u001b[A\u001b[A\n",
      "\n",
      "\n",
      " 50%|█████     | 1/2 [00:01<00:01,  1.89s/window]\u001b[A\u001b[A\u001b[A\n",
      "\n",
      "\n",
      "100%|██████████| 2/2 [00:05<00:00,  2.55s/window]\u001b[A\u001b[A\u001b[A\n",
      "\n",
      "\n",
      "pt.apply.by_query():  84%|████████▍ | 656/779 [03:38<00:41,  2.98it/s]\u001b[A\u001b[A"
     ]
    },
    {
     "name": "stdout",
     "output_type": "stream",
     "text": [
      "Assignments: [0, 0, 0, 0, 1, 0, 0, 0, 0, 0, 1, 0, 0, 0, 1]\n"
     ]
    },
    {
     "name": "stderr",
     "output_type": "stream",
     "text": [
      "\n",
      "\n",
      "\n",
      "  0%|          | 0/2 [00:00<?, ?window/s]\u001b[A\u001b[A\u001b[A\n",
      "\n",
      "\n",
      " 50%|█████     | 1/2 [00:02<00:02,  2.21s/window]\u001b[A\u001b[A\u001b[A\n",
      "\n",
      "\n",
      "100%|██████████| 2/2 [00:05<00:00,  2.54s/window]\u001b[A\u001b[A\u001b[A\n",
      "\n",
      "\n",
      "pt.apply.by_query():  86%|████████▋ | 672/779 [03:43<00:35,  3.03it/s]\u001b[A\u001b[A"
     ]
    },
    {
     "name": "stdout",
     "output_type": "stream",
     "text": [
      "Assignments: [0, 0, 0, 2, 2, 1, 0, 2, 0, 2, 2, 2, 0, 2, 1, 0]\n"
     ]
    },
    {
     "name": "stderr",
     "output_type": "stream",
     "text": [
      "\n",
      "\n",
      "\n",
      "  0%|          | 0/2 [00:00<?, ?window/s]\u001b[A\u001b[A\u001b[A\n",
      "\n",
      "\n",
      " 50%|█████     | 1/2 [00:02<00:02,  2.26s/window]\u001b[A\u001b[A\u001b[A\n",
      "\n",
      "\n",
      "100%|██████████| 2/2 [00:05<00:00,  2.64s/window]\u001b[A\u001b[A\u001b[A\n",
      "\n",
      "\n",
      "pt.apply.by_query():  89%|████████▊ | 690/779 [03:49<00:28,  3.15it/s]\u001b[A\u001b[A"
     ]
    },
    {
     "name": "stdout",
     "output_type": "stream",
     "text": [
      "Assignments: [2, 2, 2, 0, 0, 2, 0, 2, 0, 0, 1, 2, 2, 1, 0, 0, 2, 1]\n"
     ]
    },
    {
     "name": "stderr",
     "output_type": "stream",
     "text": [
      "\n",
      "\n",
      "\n",
      "  0%|          | 0/2 [00:00<?, ?window/s]\u001b[A\u001b[A\u001b[A\n",
      "\n",
      "\n",
      " 50%|█████     | 1/2 [00:01<00:01,  1.38s/window]\u001b[A\u001b[A\u001b[A\n",
      "\n",
      "\n",
      "100%|██████████| 2/2 [00:05<00:00,  2.72s/window]\u001b[A\u001b[A\u001b[A\n",
      "\n",
      "\n",
      "pt.apply.by_query():  90%|█████████ | 703/779 [03:54<00:26,  2.91it/s]\u001b[A\u001b[A"
     ]
    },
    {
     "name": "stdout",
     "output_type": "stream",
     "text": [
      "Assignments: [1, 2, 2, 1, 1, 0, 0, 1, 0, 1, 0, 1, 1]\n"
     ]
    },
    {
     "name": "stderr",
     "output_type": "stream",
     "text": [
      "\n",
      "\n",
      "\n",
      "  0%|          | 0/2 [00:00<?, ?window/s]\u001b[A\u001b[A\u001b[A\n",
      "\n",
      "\n",
      " 50%|█████     | 1/2 [00:02<00:02,  2.05s/window]\u001b[A\u001b[A\u001b[A\n",
      "\n",
      "\n",
      "100%|██████████| 2/2 [00:05<00:00,  2.51s/window]\u001b[A\u001b[A\u001b[A\n",
      "\n",
      "\n",
      "pt.apply.by_query():  92%|█████████▏| 719/779 [03:59<00:20,  2.99it/s]\u001b[A\u001b[A"
     ]
    },
    {
     "name": "stdout",
     "output_type": "stream",
     "text": [
      "Assignments: [2, 1, 2, 0, 0, 0, 2, 0, 1, 2, 1, 2, 0, 1, 2, 0]\n"
     ]
    },
    {
     "name": "stderr",
     "output_type": "stream",
     "text": [
      "\n",
      "\n",
      "\n",
      "  0%|          | 0/1 [00:00<?, ?window/s]\u001b[A\u001b[A\u001b[A\n",
      "\n",
      "\n",
      "100%|██████████| 1/1 [00:02<00:00,  2.55s/window]\u001b[A\u001b[A\u001b[A\n",
      "\n",
      "\n",
      "pt.apply.by_query():  93%|█████████▎| 726/779 [04:02<00:17,  2.95it/s]\u001b[A\u001b[A"
     ]
    },
    {
     "name": "stdout",
     "output_type": "stream",
     "text": [
      "Assignments: [0, 0, 0, 0, 0, 0, 0]\n"
     ]
    },
    {
     "name": "stderr",
     "output_type": "stream",
     "text": [
      "\n",
      "\n",
      "\n",
      "  0%|          | 0/1 [00:00<?, ?window/s]\u001b[A\u001b[A\u001b[A\n",
      "\n",
      "\n",
      "100%|██████████| 1/1 [00:02<00:00,  2.96s/window]\u001b[A\u001b[A\u001b[A\n",
      "\n",
      "\n",
      "pt.apply.by_query():  94%|█████████▍| 736/779 [04:05<00:14,  3.05it/s]\u001b[A\u001b[A"
     ]
    },
    {
     "name": "stdout",
     "output_type": "stream",
     "text": [
      "Assignments: [2, 2, 2, 2, 0, 0, 0, 0, 0, 1]\n"
     ]
    },
    {
     "name": "stderr",
     "output_type": "stream",
     "text": [
      "\n",
      "\n",
      "\n",
      "  0%|          | 0/2 [00:00<?, ?window/s]\u001b[A\u001b[A\u001b[A\n",
      "\n",
      "\n",
      " 50%|█████     | 1/2 [00:02<00:02,  2.19s/window]\u001b[A\u001b[A\u001b[A\n",
      "\n",
      "\n",
      "100%|██████████| 2/2 [00:05<00:00,  2.66s/window]\u001b[A\u001b[A\u001b[A\n",
      "\n",
      "\n",
      "pt.apply.by_query():  97%|█████████▋| 752/779 [04:10<00:08,  3.03it/s]\u001b[A\u001b[A"
     ]
    },
    {
     "name": "stdout",
     "output_type": "stream",
     "text": [
      "Assignments: [0, 0, 1, 0, 0, 0, 2, 0, 1, 2, 2, 0, 0, 0, 1, 0]\n"
     ]
    },
    {
     "name": "stderr",
     "output_type": "stream",
     "text": [
      "\n",
      "\n",
      "\n",
      "  0%|          | 0/2 [00:00<?, ?window/s]\u001b[A\u001b[A\u001b[A\n",
      "\n",
      "\n",
      " 50%|█████     | 1/2 [00:02<00:02,  2.82s/window]\u001b[A\u001b[A\u001b[A\n",
      "\n",
      "\n",
      "100%|██████████| 2/2 [00:05<00:00,  2.95s/window]\u001b[A\u001b[A\u001b[A\n",
      "\n",
      "\n",
      "pt.apply.by_query(): 100%|██████████| 779/779 [04:16<00:00,  3.04it/s]\u001b[A\u001b[A\n"
     ]
    },
    {
     "name": "stdout",
     "output_type": "stream",
     "text": [
      "Assignments: [0, 0, 0, 0, 0, 0, 0, 0, 0, 0, 0, 0, 0, 0, 0, 0]\n"
     ]
    },
    {
     "name": "stderr",
     "output_type": "stream",
     "text": [
      "\n",
      "\n",
      "  0%|          | 0/2 [00:00<?, ?window/s]\u001b[A\u001b[A\n",
      "\n",
      " 50%|█████     | 1/2 [00:01<00:01,  1.12s/window]\u001b[A\u001b[A\n",
      "\n",
      "100%|██████████| 2/2 [00:04<00:00,  2.06s/window]\u001b[A\u001b[A"
     ]
    },
    {
     "name": "stdout",
     "output_type": "stream",
     "text": [
      "Assignments: [0, 0, 2, 2, 2, 2, 0, 0, 1, 0, 0, 1]\n",
      "Query ID: 2024-145979, Measure: AllScore(strict=True), Value: 0.3333333333333333\n",
      "Query ID: 2024-216592, Measure: AllScore(strict=True), Value: 0.1\n",
      "Query ID: 2024-32912, Measure: AllScore(strict=True), Value: 0.2222222222222222\n",
      "Query ID: 2024-153051, Measure: AllScore(strict=True), Value: 0.21428571428571427\n",
      "Query ID: 2024-79081, Measure: AllScore(strict=True), Value: 0.25\n",
      "Query ID: 2024-42497, Measure: AllScore(strict=True), Value: 0.3333333333333333\n",
      "Query ID: 2024-158743, Measure: AllScore(strict=True), Value: 0.1111111111111111\n",
      "Query ID: 2024-143869, Measure: AllScore(strict=True), Value: 0.2\n",
      "Query ID: 2024-43037, Measure: AllScore(strict=True), Value: 0.4\n",
      "Query ID: 2024-43983, Measure: AllScore(strict=True), Value: 0.0\n",
      "Query ID: 2024-224279, Measure: AllScore(strict=True), Value: 0.26666666666666666\n",
      "Query ID: 2024-214096, Measure: AllScore(strict=True), Value: 0.1875\n",
      "Query ID: 2024-219624, Measure: AllScore(strict=True), Value: 0.5384615384615384\n",
      "Query ID: 2024-73340, Measure: AllScore(strict=True), Value: 0.7142857142857143\n",
      "Query ID: 2024-44060, Measure: AllScore(strict=True), Value: 0.5\n",
      "Query ID: 2024-96359, Measure: AllScore(strict=True), Value: 0.5454545454545454\n",
      "Query ID: 2024-142395, Measure: AllScore(strict=True), Value: 0.23076923076923078\n",
      "Query ID: 2024-35284, Measure: AllScore(strict=True), Value: 0.46153846153846156\n",
      "Query ID: 2024-88894, Measure: AllScore(strict=True), Value: 0.07692307692307693\n",
      "Query ID: 2024-22886, Measure: AllScore(strict=True), Value: 0.4\n",
      "Query ID: 2024-35269, Measure: AllScore(strict=True), Value: 0.4\n",
      "Query ID: 2024-73918, Measure: AllScore(strict=True), Value: 0.1111111111111111\n",
      "Query ID: 2024-217279, Measure: AllScore(strict=True), Value: 0.4166666666666667\n",
      "Query ID: 2024-158261, Measure: AllScore(strict=True), Value: 0.29411764705882354\n",
      "Query ID: 2024-18963, Measure: AllScore(strict=True), Value: 0.0\n",
      "Query ID: 2024-19025, Measure: AllScore(strict=True), Value: 0.08333333333333333\n",
      "Query ID: 2024-141577, Measure: AllScore(strict=True), Value: 0.25\n",
      "Query ID: 2024-129925, Measure: AllScore(strict=True), Value: 0.2727272727272727\n",
      "Query ID: 2024-158677, Measure: AllScore(strict=True), Value: 0.3888888888888889\n",
      "Query ID: 2024-213469, Measure: AllScore(strict=True), Value: 0.38461538461538464\n",
      "Query ID: 2024-213817, Measure: AllScore(strict=True), Value: 0.3076923076923077\n",
      "Query ID: 2024-35620, Measure: AllScore(strict=True), Value: 0.058823529411764705\n",
      "Query ID: 2024-41849, Measure: AllScore(strict=True), Value: 0.47368421052631576\n",
      "Query ID: 2024-152259, Measure: AllScore(strict=True), Value: 0.3333333333333333\n",
      "Query ID: 2024-27366, Measure: AllScore(strict=True), Value: 0.25\n",
      "Query ID: 2024-224926, Measure: AllScore(strict=True), Value: 0.2727272727272727\n",
      "Query ID: 2024-217812, Measure: AllScore(strict=True), Value: 0.0\n",
      "Query ID: 2024-215952, Measure: AllScore(strict=True), Value: 0.3\n",
      "Query ID: 2024-79154, Measure: AllScore(strict=True), Value: 0.1111111111111111\n",
      "Query ID: 2024-213978, Measure: AllScore(strict=True), Value: 0.2222222222222222\n",
      "Query ID: 2024-105741, Measure: AllScore(strict=True), Value: 0.0625\n",
      "Query ID: 2024-29182, Measure: AllScore(strict=True), Value: 0.13333333333333333\n",
      "Query ID: 2024-96063, Measure: AllScore(strict=True), Value: 0.0\n",
      "Query ID: 2024-94706, Measure: AllScore(strict=True), Value: 0.0\n",
      "Query ID: 2024-214257, Measure: AllScore(strict=True), Value: 0.18181818181818182\n",
      "Query ID: 2024-35227, Measure: AllScore(strict=True), Value: 0.5\n",
      "Query ID: 2024-215044, Measure: AllScore(strict=True), Value: 0.0\n",
      "Query ID: 2024-152817, Measure: AllScore(strict=True), Value: 0.4375\n",
      "Query ID: 2024-224701, Measure: AllScore(strict=True), Value: 0.4444444444444444\n",
      "Query ID: 2024-213789, Measure: AllScore(strict=True), Value: 0.15384615384615385\n",
      "Query ID: 2024-38986, Measure: AllScore(strict=True), Value: 0.375\n",
      "Query ID: 2024-214467, Measure: AllScore(strict=True), Value: 0.0\n",
      "Query ID: 2024-219563, Measure: AllScore(strict=True), Value: 0.4\n",
      "Query ID: 2024-121840, Measure: AllScore(strict=True), Value: 0.1875\n",
      "Query ID: 2024-58819, Measure: AllScore(strict=True), Value: 0.0\n",
      "Query ID: 2024-127266, Measure: AllScore(strict=True), Value: 0.3333333333333333\n"
     ]
    },
    {
     "name": "stderr",
     "output_type": "stream",
     "text": [
      "\n"
     ]
    }
   ],
   "source": [
    "scored_nuggets = scored_nuggets.rename(columns={\"query_id\": \"qid\"})\n",
    "results = results.rename(columns={\"query_id\": \"qid\", \"query_0\": \"query\"})\n",
    "scores = []\n",
    "\n",
    "for element in nuggetizer.AllScore(strict=True).iter_calc(scored_nuggets, results):\n",
    "    print(f\"Query ID: {element.query_id}, Measure: {element.measure}, Value: {element.value}\")\n",
    "    scores.append(element.value)"
   ]
  },
  {
   "cell_type": "code",
   "execution_count": 143,
   "id": "c6336ce7-f39d-4f33-b7ed-0eb00f8907a4",
   "metadata": {},
   "outputs": [
    {
     "name": "stdout",
     "output_type": "stream",
     "text": [
      "\n",
      "✅ Score medio: 0.2540 (± 0.1709)\n"
     ]
    }
   ],
   "source": [
    "import numpy as np\n",
    "# Calcolo della media (e deviazione standard, se ti serve)\n",
    "mean_vital = np.mean(scores)\n",
    "std_vital = np.std(scores)\n",
    "print(f\"\\n✅ Score medio: {mean_vital:.4f} (± {std_vital:.4f})\")"
   ]
  }
 ],
 "metadata": {
  "kernelspec": {
   "display_name": "Python [conda env:emalir-rq3]",
   "language": "python",
   "name": "conda-env-emalir-rq3-py"
  },
  "language_info": {
   "codemirror_mode": {
    "name": "ipython",
    "version": 3
   },
   "file_extension": ".py",
   "mimetype": "text/x-python",
   "name": "python",
   "nbconvert_exporter": "python",
   "pygments_lexer": "ipython3",
   "version": "3.10.18"
  }
 },
 "nbformat": 4,
 "nbformat_minor": 5
}
